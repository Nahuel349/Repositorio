{
 "cells": [
  {
   "attachments": {},
   "cell_type": "markdown",
   "metadata": {},
   "source": [
    "1. Crear una variable que se llame materia y asignarle el valor\n",
    "‘Programación II’ Imprimir la variable"
   ]
  },
  {
   "cell_type": "code",
   "execution_count": 1,
   "metadata": {},
   "outputs": [
    {
     "name": "stdout",
     "output_type": "stream",
     "text": [
      "Programación II\n"
     ]
    }
   ],
   "source": [
    "mi_variable =\"Programación II\"\n",
    "print(mi_variable)"
   ]
  },
  {
   "attachments": {},
   "cell_type": "markdown",
   "metadata": {},
   "source": [
    "2. Crear una variable llamada x y asignarle el valor 50."
   ]
  },
  {
   "cell_type": "code",
   "execution_count": 2,
   "metadata": {},
   "outputs": [],
   "source": [
    "x = 50"
   ]
  },
  {
   "attachments": {},
   "cell_type": "markdown",
   "metadata": {},
   "source": [
    "3. Crear dos variables que almacene números, imprimir la suma de\n",
    "ambas variables.\n"
   ]
  },
  {
   "cell_type": "code",
   "execution_count": 4,
   "metadata": {},
   "outputs": [
    {
     "name": "stdout",
     "output_type": "stream",
     "text": [
      "la suma de 50 + 80 es igual a 130\n"
     ]
    }
   ],
   "source": [
    "numero1 = 50\n",
    "numero2= 80\n",
    "print(f\"la suma de {numero1} + {numero2} es igual a {numero1+numero2}\")"
   ]
  },
  {
   "attachments": {},
   "cell_type": "markdown",
   "metadata": {},
   "source": [
    "4. Crear una variable, y asignar el valor de la suma de otras dos\n",
    "variables numéricas. Imprimir el valor utilizando la función print()"
   ]
  },
  {
   "cell_type": "code",
   "execution_count": 5,
   "metadata": {},
   "outputs": [
    {
     "name": "stdout",
     "output_type": "stream",
     "text": [
      "la suma de 20 + 80 es igual a 100\n"
     ]
    }
   ],
   "source": [
    "numero1 = 20\n",
    "numero2 = 80\n",
    "resultado = numero1 + numero2\n",
    "print(f\"la suma de {numero1} + {numero2} es igual a {resultado}\")"
   ]
  },
  {
   "attachments": {},
   "cell_type": "markdown",
   "metadata": {},
   "source": [
    "5. dada la variable mi-materia = ‘Programación II’, ejecutar y ver que\n",
    "sucede, corregir lo que este mal para que se pueda ejecutar el código\n",
    "sin problema"
   ]
  },
  {
   "cell_type": "code",
   "execution_count": 1,
   "metadata": {},
   "outputs": [],
   "source": [
    "mi_materia =\"Programación II\"\n",
    "# se produce una excepción de tipo SintaxError ya que el guión medio no es aceptado para utilizar en nombre de variables"
   ]
  },
  {
   "cell_type": "code",
   "execution_count": 7,
   "metadata": {},
   "outputs": [],
   "source": [
    "mi_materia = \"Programación II\" #Corrigo el nombre de variable y el código ejecuta sin problema"
   ]
  },
  {
   "attachments": {},
   "cell_type": "markdown",
   "metadata": {},
   "source": [
    "6. Asignar a tres variables diferentes el valor 15, utilizando la\n",
    "asignación múltiple de Python."
   ]
  },
  {
   "cell_type": "code",
   "execution_count": 9,
   "metadata": {},
   "outputs": [
    {
     "name": "stdout",
     "output_type": "stream",
     "text": [
      "la variable numero1 vale 15\n",
      "la variable numero2 vale 15\n",
      "la variable numero3 vale 15\n"
     ]
    }
   ],
   "source": [
    "numero1 = numero2 = numero3 =15\n",
    "print(f\"la variable numero1 vale {numero1}\")\n",
    "print(f\"la variable numero2 vale {numero2}\")\n",
    "print(f\"la variable numero3 vale {numero3}\")"
   ]
  },
  {
   "attachments": {},
   "cell_type": "markdown",
   "metadata": {},
   "source": [
    "7. declarar tres variables cuentaAhorro, depósito y total, almacenar en\n",
    "total la suma de cuentaAhorro + depósito. Imprimir por pantalla total\n",
    "utilizando la función print"
   ]
  },
  {
   "cell_type": "code",
   "execution_count": 10,
   "metadata": {},
   "outputs": [
    {
     "name": "stdout",
     "output_type": "stream",
     "text": [
      "Tenía $50000 en la caja de ahorro, hice un deposito por $20000 y ahora tengo un total de $70000\n"
     ]
    }
   ],
   "source": [
    "cuentaAhorro =50000\n",
    "deposito=20000\n",
    "total=cuentaAhorro+deposito\n",
    "print(f\"Tenía ${cuentaAhorro} en la caja de ahorro, hice un deposito por ${deposito} y ahora tengo un total de ${total}\")"
   ]
  }
 ],
 "metadata": {
  "kernelspec": {
   "display_name": "Python 3",
   "language": "python",
   "name": "python3"
  },
  "language_info": {
   "codemirror_mode": {
    "name": "ipython",
    "version": 3
   },
   "file_extension": ".py",
   "mimetype": "text/x-python",
   "name": "python",
   "nbconvert_exporter": "python",
   "pygments_lexer": "ipython3",
   "version": "3.9.13"
  },
  "orig_nbformat": 4
 },
 "nbformat": 4,
 "nbformat_minor": 2
}

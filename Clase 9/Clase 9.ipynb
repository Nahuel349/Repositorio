{
 "cells": [
  {
   "cell_type": "code",
   "execution_count": 1,
   "metadata": {},
   "outputs": [],
   "source": [
    "# Programacion Orientada a Objetos\n",
    "\n",
    "class persona:\n",
    "    def __init__(self, nombre, edad, genero):\n",
    "        self.nombre = nombre\n",
    "        self.edad = edad\n",
    "        self.genero = genero\n",
    "    \n",
    "    def establecer_nombre(self, nombre):\n",
    "        self.nombre\n",
    "    \n",
    "    def obtener_nombre(self, nombre):\n",
    "        return self.nombre\n",
    "    \n",
    "    def establecer_edad(self, edad):\n",
    "        self.edad\n",
    "    \n",
    "    def obtener_edad(self, edad):\n",
    "        return self.edad\n",
    "    \n",
    "    def establecer_genero(self, genero):\n",
    "        self.genero\n",
    "    \n",
    "    def obtener_genero(self, genero):\n",
    "        return self.genero\n",
    "    \n",
    "    def correr(self):\n",
    "        print(f\"{self.nombre} esta corriento\")\n",
    "    \n",
    "    def caminar(self):\n",
    "        print(f\"{self.nombre} esta caminando\")"
   ]
  },
  {
   "cell_type": "code",
   "execution_count": 2,
   "metadata": {},
   "outputs": [
    {
     "name": "stdout",
     "output_type": "stream",
     "text": [
      "<class 'int'>\n"
     ]
    }
   ],
   "source": [
    "# Clase\n",
    "\n",
    "mi_variable = 42 # al definir la variable creo una instancia de la clase\n",
    "print(type(mi_variable))"
   ]
  },
  {
   "cell_type": "code",
   "execution_count": 3,
   "metadata": {},
   "outputs": [],
   "source": [
    "# definir Clase vacia\n",
    "\n",
    "class ejemplo:\n",
    "    pass"
   ]
  },
  {
   "cell_type": "code",
   "execution_count": 4,
   "metadata": {},
   "outputs": [
    {
     "name": "stdout",
     "output_type": "stream",
     "text": [
      "<class '__main__.ejemplo'>\n"
     ]
    }
   ],
   "source": [
    "f1 = ejemplo()\n",
    "f2 = ejemplo()\n",
    "# Leemos 2 objetos de la clase ejemplo\n",
    "print(type(f1))"
   ]
  },
  {
   "cell_type": "code",
   "execution_count": 5,
   "metadata": {},
   "outputs": [],
   "source": [
    "# Iniciar una Clase\n",
    "\n",
    "class Coche():\n",
    "    def __init__(self,color,marca,modelo):\n",
    "        self.color = color\n",
    "        self.marca = marca\n",
    "        self.modelo = modelo"
   ]
  },
  {
   "cell_type": "code",
   "execution_count": 6,
   "metadata": {},
   "outputs": [
    {
     "data": {
      "text/plain": [
       "'Koleos'"
      ]
     },
     "execution_count": 6,
     "metadata": {},
     "output_type": "execute_result"
    }
   ],
   "source": [
    "coche1 = Coche(color=\"Azul\",marca=\"Honda\",modelo=\"CRV\" )\n",
    "coche2 = Coche(\"Gris\",\"Renault\",\"Koleos\")\n",
    "\n",
    "coche1.color\n",
    "coche2.modelo\n"
   ]
  },
  {
   "cell_type": "code",
   "execution_count": 7,
   "metadata": {},
   "outputs": [
    {
     "data": {
      "text/plain": [
       "5"
      ]
     },
     "execution_count": 7,
     "metadata": {},
     "output_type": "execute_result"
    }
   ],
   "source": [
    "# Atributos\n",
    "\n",
    "coche1.num_ruedas = 5\n",
    "coche1.num_ruedas\n",
    "#coche2.num_ruedas"
   ]
  },
  {
   "cell_type": "code",
   "execution_count": 11,
   "metadata": {},
   "outputs": [],
   "source": [
    "# Atributos de Clase\n",
    "\n",
    "class Gato:\n",
    "    num_patas = 4 # ya estan definidosy es para cualquiera\n",
    "    orejas = 2 # ya estan definidos y es para cualquiera\n",
    "    nombres = [] # defino despues el nombre\n",
    "    def __init__(self,nombre):\n",
    "        self.nombre = nombre\n",
    "        self.nombres.append(nombre)"
   ]
  },
  {
   "cell_type": "code",
   "execution_count": 14,
   "metadata": {},
   "outputs": [
    {
     "data": {
      "text/plain": [
       "(1, 2)"
      ]
     },
     "execution_count": 14,
     "metadata": {},
     "output_type": "execute_result"
    }
   ],
   "source": [
    "gato1 = Gato(\"Garfield\")\n",
    "gato2 = Gato(\"Don Gato\")\n",
    "\n",
    "# Muestra el numero de patas\n",
    "gato1.num_patas, gato2.num_patas\n",
    "\n",
    "# Modifico el numero de orejas\n",
    "gato2.orejas = 1\n",
    "gato2.orejas,gato1.orejas\n"
   ]
  },
  {
   "cell_type": "code",
   "execution_count": null,
   "metadata": {},
   "outputs": [
    {
     "name": "stdout",
     "output_type": "stream",
     "text": [
      "Hola mi Nombre es: Nahuel\n"
     ]
    }
   ],
   "source": [
    "# Metodos dentro de la funcion\n",
    "\n",
    "class persona0:\n",
    "    def __init__(self,nombre5,edad5):\n",
    "        self.nombre5 = nombre5\n",
    "        self.edad5 = edad5\n",
    "    def mifuncion1(self):\n",
    "        print(\"Hola mi Nombre es: \" + self.nombre5)\n",
    "\n",
    "persona01 = persona0(\"Nahuel\",45)\n",
    "persona01.mifuncion1()\n",
    "\n"
   ]
  }
 ],
 "metadata": {
  "kernelspec": {
   "display_name": "Python 3",
   "language": "python",
   "name": "python3"
  },
  "language_info": {
   "codemirror_mode": {
    "name": "ipython",
    "version": 3
   },
   "file_extension": ".py",
   "mimetype": "text/x-python",
   "name": "python",
   "nbconvert_exporter": "python",
   "pygments_lexer": "ipython3",
   "version": "3.9.13"
  },
  "orig_nbformat": 4
 },
 "nbformat": 4,
 "nbformat_minor": 2
}

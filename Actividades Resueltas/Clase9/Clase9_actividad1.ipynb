{
 "cells": [
  {
   "attachments": {},
   "cell_type": "markdown",
   "metadata": {},
   "source": [
    "1. Crea la clase base \"Persona\" con los siguientes atributos:\n",
    "+ nombre\n",
    "+ edad\n",
    "  \n",
    "   Incluir un constructor que inicialice los atributos"
   ]
  },
  {
   "cell_type": "code",
   "execution_count": 3,
   "metadata": {},
   "outputs": [],
   "source": [
    "class Persona:\n",
    "    def __init__(self, nombre, edad):\n",
    "        self.nombre = nombre\n",
    "        self.edad = edad"
   ]
  },
  {
   "attachments": {},
   "cell_type": "markdown",
   "metadata": {},
   "source": [
    "2. Crea la clase base \"Vehículo\" con los siguientes atributos:\n",
    "+ marca\n",
    "+ modelo\n",
    "  \n",
    "   Incluir un constructor que inicialice los atributos"
   ]
  },
  {
   "cell_type": "code",
   "execution_count": 4,
   "metadata": {},
   "outputs": [],
   "source": [
    "class Vehiculo:\n",
    "    def __init__(self, marca, modelo):\n",
    "        self.marca = marca\n",
    "        self.modelo = modelo\n",
    "        "
   ]
  },
  {
   "attachments": {},
   "cell_type": "markdown",
   "metadata": {},
   "source": [
    "3. Crea la clase base \"Animal\" con los siguientes atributos:\n",
    "+ nombre\n",
    "+ edad\n",
    "+ especie\n",
    "  \n",
    "  Incluir un constructor que inicialice los atributos"
   ]
  },
  {
   "cell_type": "code",
   "execution_count": 6,
   "metadata": {},
   "outputs": [],
   "source": [
    "class Animal:\n",
    "    def __init__(self, nombre, edad, especie):\n",
    "        self.nombre = nombre\n",
    "        self.edad = int(edad)\n",
    "        self.especie = str(especie)\n",
    "        \n",
    "        "
   ]
  },
  {
   "attachments": {},
   "cell_type": "markdown",
   "metadata": {},
   "source": [
    "4. Crea una clase \"Estudiante\" que herede de \"Persona\" y tenga un atributo adicional \"escuela\". Agrega métodos para imprimir la información del estudiante."
   ]
  },
  {
   "cell_type": "code",
   "execution_count": 7,
   "metadata": {},
   "outputs": [],
   "source": [
    "class Estudiante(Persona):\n",
    "    def __init__(self, nombre,edad,escuela):\n",
    "        super().__init__(nombre, edad)\n",
    "        self.escuela = escuela\n",
    "    def informacion_estudiante(self):\n",
    "        print(\"Nombre:\", self.nombre,\"Edad\", self.edad ,\"Escuela:\", self.escuela)"
   ]
  },
  {
   "attachments": {},
   "cell_type": "markdown",
   "metadata": {},
   "source": [
    "5. Crea una clase \"Empleado\" que herede de \"Persona\" y tenga atributos adicionales como \"empresa\" y \"puesto\". Agrega métodos para imprimir la información del empleado."
   ]
  },
  {
   "cell_type": "code",
   "execution_count": 8,
   "metadata": {},
   "outputs": [],
   "source": [
    "class Empleado(Persona):\n",
    "    def __init__(self, nombre,edad,empresa,puesto):\n",
    "        super().__init__(nombre, edad)\n",
    "        self.empresa = empresa\n",
    "        self.puesto= puesto\n",
    "    def informacion_empleado(self):\n",
    "        print(\"Nombre: \",self.nombre,\"\\nEdad:\",self.edad,\"\\nEmpresa\",self.empresa,\"\\nPuesto\",self.puesto)\n",
    "        \n",
    "        "
   ]
  },
  {
   "attachments": {},
   "cell_type": "markdown",
   "metadata": {},
   "source": [
    "6. Crea una clase \"Coche\" que herede de \"Vehículo\" y tenga atributos adicionales como \"color\" y \"velocidad\". Agrega métodos para imprimir la información del coche."
   ]
  },
  {
   "cell_type": "code",
   "execution_count": 9,
   "metadata": {},
   "outputs": [],
   "source": [
    "class Coche(Vehiculo):\n",
    "    def __init__(self, marca, modelo,color,velocidad):\n",
    "        super().__init__(marca,modelo)\n",
    "        self.color = color\n",
    "        self.velocidad = velocidad\n",
    "    def informacion_coche(self):\n",
    "        print(\"Marca: \",self.marca,\"\\nModelo:\",self.modelo,\"\\nColor\",self.color,\"\\nVelocidad\",self.velocidad)\n",
    "       \n",
    "    \n",
    "        \n",
    "        "
   ]
  },
  {
   "attachments": {},
   "cell_type": "markdown",
   "metadata": {},
   "source": [
    "7. Crea una clase \"Perro\" que herede de \"Animal\" y tenga un atributo adicional \"raza\". Agrega métodos para imprimir la información del perro."
   ]
  },
  {
   "cell_type": "code",
   "execution_count": 10,
   "metadata": {},
   "outputs": [],
   "source": [
    "class Perro(Animal):\n",
    "    def __init__(self, nombre,edad,especie,raza):\n",
    "        super().__init__(nombre, edad,especie)\n",
    "        self.raza = raza\n",
    "    def informacion_perro(self):\n",
    "        print(\"El perro tiene una raza de:\", self.raza)\n",
    "         "
   ]
  },
  {
   "cell_type": "code",
   "execution_count": 11,
   "metadata": {},
   "outputs": [
    {
     "name": "stdout",
     "output_type": "stream",
     "text": [
      "Marca:  Renault \n",
      "Modelo: Koleos \n",
      "Color Gris \n",
      "Velocidad 220\n"
     ]
    }
   ],
   "source": [
    "coches =Coche(\"Renault\",\"Koleos\",\"Gris\",220)\n",
    "coches.informacion_coche()"
   ]
  },
  {
   "attachments": {},
   "cell_type": "markdown",
   "metadata": {},
   "source": [
    "8. Crea una clase \"EstudianteUniversitario\" que herede de \"Estudiante\" y tenga atributos adicionales como \"carrera\" y \"semestre\". Agrega métodos para imprimir la información del estudiante universitario."
   ]
  },
  {
   "cell_type": "code",
   "execution_count": 14,
   "metadata": {},
   "outputs": [],
   "source": [
    "class EstudianteUniversitario(Estudiante):\n",
    "    def __init__(self, nombre, edad, escuela,carrera,semestre):\n",
    "        super().__init__(nombre,edad,escuela)\n",
    "        self.carrera = carrera\n",
    "        self.semestre= semestre\n",
    "    def obtener_informacion(self):\n",
    "        print(\"Nombre: \",self.nombre,\"\\nEdad:\",self.edad,\"\\nUniversidad:\",self.escuela,\"\\nCarrera\",self.carrera,\"\\nSemestre:\",self.semestre)"
   ]
  },
  {
   "cell_type": "code",
   "execution_count": 17,
   "metadata": {},
   "outputs": [
    {
     "name": "stdout",
     "output_type": "stream",
     "text": [
      "Nombre:  Gonzalo \n",
      "Edad: 44 \n",
      "Universidad: Universidad Blas Pascal \n",
      "Carrera Licenciatura en Informática \n",
      "Semestre: 6\n"
     ]
    }
   ],
   "source": [
    "estudiante1 =EstudianteUniversitario(\"Gonzalo\",44,\"Universidad Blas Pascal\",\"Licenciatura en Informática\",6)\n",
    "estudiante1.obtener_informacion()"
   ]
  },
  {
   "attachments": {},
   "cell_type": "markdown",
   "metadata": {},
   "source": [
    "9. Crea una clase \"Camioneta\" que herede de \"Vehículo\" y tenga un atributo adicional \"capacidad_carga\". Agrega métodos para imprimir la información de la camioneta."
   ]
  },
  {
   "cell_type": "code",
   "execution_count": 21,
   "metadata": {},
   "outputs": [],
   "source": [
    "class Camioneta(Vehiculo):\n",
    "    def __init__(self,marca, modelo,capacidad_carga):\n",
    "        super().__init__(marca,modelo)\n",
    "        self.capacidad_carga = capacidad_carga\n",
    "    def informacion_camioneta(self):\n",
    "        print(\"Marca: \",self.marca,\" Modelo:\",self.modelo,\"\\nCapacidad de Carga:\",self.capacidad_carga)"
   ]
  },
  {
   "cell_type": "code",
   "execution_count": 22,
   "metadata": {},
   "outputs": [
    {
     "name": "stdout",
     "output_type": "stream",
     "text": [
      "Marca:  Fiat  Modelo: Toro \n",
      "Capacidad de Carga: 1400 KG\n"
     ]
    }
   ],
   "source": [
    "toro =Camioneta(\"Fiat\",\"Toro\",\"1400 KG\")\n",
    "toro.informacion_camioneta()"
   ]
  },
  {
   "attachments": {},
   "cell_type": "markdown",
   "metadata": {},
   "source": [
    "10. Crea una clase \"Profesor\" que herede de \"Empleado\" y tenga atributos adicionales como \"materia\" y \"experiencia\". Agrega métodos para imprimir la información del profesor."
   ]
  },
  {
   "cell_type": "code",
   "execution_count": 23,
   "metadata": {},
   "outputs": [],
   "source": [
    "class Profesor(Empleado):\n",
    "    def __init__(self, nombre,edad,empresa,puesto,materia,experiencia):\n",
    "        Empleado.__init__(self,nombre,edad,empresa,puesto)\n",
    "        self.materia =materia\n",
    "        self.experiencia= experiencia\n",
    "    def informacion_profesor(self):\n",
    "        print(\"Nombre: \",self.nombre,\" Edad:\",self.edad,\"\\nInstitucion:\",self.empresa,\"\\nCargo:\",self.puesto,\"\\nMateria:\",self.materia,\"\\nExperiencia\",self.experiencia)"
   ]
  },
  {
   "cell_type": "code",
   "execution_count": 25,
   "metadata": {},
   "outputs": [
    {
     "name": "stdout",
     "output_type": "stream",
     "text": [
      "Nombre:  Gonzalo  Edad: 44 \n",
      "Institucion: Politecnico Malvinas Argentinas \n",
      "Cargo: Docente \n",
      "Materia: Programación II \n",
      "Experiencia 20 años\n"
     ]
    }
   ],
   "source": [
    "profesor =Profesor(\"Gonzalo\",44,\"Politecnico Malvinas Argentinas\",\"Docente\",\"Programación II\", \"20 años\")\n",
    "profesor.informacion_profesor()"
   ]
  },
  {
   "attachments": {},
   "cell_type": "markdown",
   "metadata": {},
   "source": [
    "11. Crea una clase \"Motocicleta\" que herede de \"Vehículo\" y tenga atributos adicionales como \"cilindrada\" y \"marca\". Agrega métodos para imprimir la información de la motocicleta."
   ]
  },
  {
   "cell_type": "code",
   "execution_count": 26,
   "metadata": {},
   "outputs": [],
   "source": [
    "class Motocicleta(Vehiculo):\n",
    "    def __init__(self, marca, modelo,cilindrada):\n",
    "        super().__init__(marca,modelo)\n",
    "        self.cilindrada = cilindrada\n",
    "    def informacion_motocicleta(self):\n",
    "        print(\"Marca: \",self.marca,\" \\nModelo:\",self.modelo,\"\\nCilindrada\",self.cilindrada)"
   ]
  },
  {
   "cell_type": "code",
   "execution_count": 28,
   "metadata": {},
   "outputs": [
    {
     "name": "stdout",
     "output_type": "stream",
     "text": [
      "Marca:  Honda  \n",
      "Modelo: XR \n",
      "Cilindrada 250\n"
     ]
    }
   ],
   "source": [
    "moto = Motocicleta(\"Honda\",\"XR\",250)\n",
    "moto.informacion_motocicleta()"
   ]
  },
  {
   "attachments": {},
   "cell_type": "markdown",
   "metadata": {},
   "source": [
    "12. Crea una clase \"Ave\" que herede de \"Animal\" y tenga atributos adicionales como \"especie\" y \"habitat\". Agrega métodos para imprimir la información del ave."
   ]
  },
  {
   "cell_type": "code",
   "execution_count": 32,
   "metadata": {},
   "outputs": [],
   "source": [
    "class Ave(Animal):\n",
    "    def __init__(self, nombre,edad,especie,habitat) :\n",
    "        super().__init__(nombre, edad, especie)\n",
    "        self.habitat = habitat\n",
    "    def informacion_ave(self):\n",
    "        print(\"Nombre: \", self.nombre,\"\\nEdad:\",self.edad,\"\\nEspecie:\",self.especie,\"\\nHabitat\",self.habitat)"
   ]
  },
  {
   "cell_type": "code",
   "execution_count": 33,
   "metadata": {},
   "outputs": [
    {
     "name": "stdout",
     "output_type": "stream",
     "text": [
      "Nombre:  Trepador Azul \n",
      "Edad: 5 \n",
      "Especie: Ave Forestal \n",
      "Habitat Bosques\n"
     ]
    }
   ],
   "source": [
    "trepador_azul =Ave(\"Trepador Azul\",5,\"Ave Forestal\",\"Bosques\")\n",
    "trepador_azul.informacion_ave()"
   ]
  },
  {
   "attachments": {},
   "cell_type": "markdown",
   "metadata": {},
   "source": [
    "13.Crea una clase \"Cliente\" que herede de \"Persona\" y tenga atributos adicionales como \"direccion\" y \"telefono\". Agrega métodos para imprimir la información del cliente."
   ]
  },
  {
   "cell_type": "code",
   "execution_count": 34,
   "metadata": {},
   "outputs": [],
   "source": [
    "class Cliente(Persona):\n",
    "    def __init__(self, nombre,edad,direccion,telefono):\n",
    "        super().__init__(nombre, edad)\n",
    "        self.direccion = direccion\n",
    "        self.telefono= telefono\n",
    "    def informacion_cliente(self):\n",
    "        print(\"Cliente: \",self.nombre,\" Edad:\",self.edad,\"\\nDireccion\",self.direccion,\"\\nTelefono:\",self.telefono)\n",
    "        "
   ]
  },
  {
   "cell_type": "code",
   "execution_count": 36,
   "metadata": {},
   "outputs": [
    {
     "name": "stdout",
     "output_type": "stream",
     "text": [
      "Cliente:  Pedro  Edad: 50 \n",
      "Direccion Avenidad siempre viva 123 \n",
      "Telefono: 444-321\n"
     ]
    }
   ],
   "source": [
    "cliente =Cliente(\"Pedro\",50,\"Avenidad siempre viva 123\",\"444-321\")\n",
    "cliente.informacion_cliente()"
   ]
  },
  {
   "attachments": {},
   "cell_type": "markdown",
   "metadata": {},
   "source": [
    "14. Crea una clase \"Bicicleta\" que herede de \"Vehículo\" y tenga atributos adicionales como \"tipo\""
   ]
  },
  {
   "cell_type": "code",
   "execution_count": 40,
   "metadata": {},
   "outputs": [],
   "source": [
    "class Bicicleta(Vehiculo):\n",
    "    def __init__(self, marca, modelo,tipo):\n",
    "        super().__init__(marca,modelo)\n",
    "        self.tipo = tipo\n",
    "    def informacion_bicicleta(self):\n",
    "        print(\"Marca: \", self.marca,\"\\nModelo:\", self.modelo,\"\\nTipo:\",self.tipo)\n",
    "        \n",
    "        \n",
    "        \n",
    "        "
   ]
  },
  {
   "cell_type": "code",
   "execution_count": 41,
   "metadata": {},
   "outputs": [
    {
     "name": "stdout",
     "output_type": "stream",
     "text": [
      "Marca:  Venzo \n",
      "Modelo: Cube \n",
      "Tipo: BMX\n"
     ]
    }
   ],
   "source": [
    "venzo_bmx =Bicicleta(\"Venzo\",\"Cube\",\"BMX\")\n",
    "venzo_bmx.informacion_bicicleta()"
   ]
  }
 ],
 "metadata": {
  "kernelspec": {
   "display_name": "Python 3",
   "language": "python",
   "name": "python3"
  },
  "language_info": {
   "codemirror_mode": {
    "name": "ipython",
    "version": 3
   },
   "file_extension": ".py",
   "mimetype": "text/x-python",
   "name": "python",
   "nbconvert_exporter": "python",
   "pygments_lexer": "ipython3",
   "version": "3.9.13"
  },
  "orig_nbformat": 4
 },
 "nbformat": 4,
 "nbformat_minor": 2
}

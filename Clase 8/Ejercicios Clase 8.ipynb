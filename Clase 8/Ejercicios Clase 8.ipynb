{
 "cells": [
  {
   "cell_type": "code",
   "execution_count": 3,
   "metadata": {},
   "outputs": [],
   "source": [
    "# 1 - Crear una función llamada “usuario” que reciba como parámetro un nombre y \n",
    "# devuelva un mensaje “Bienvenido al sistema {nombre}”.\n",
    "\n",
    "def usuario(nombre):\n",
    "    print(f\"Bienvenido al Sistema {nombre}\")\n",
    "     "
   ]
  },
  {
   "cell_type": "code",
   "execution_count": 4,
   "metadata": {},
   "outputs": [
    {
     "name": "stdout",
     "output_type": "stream",
     "text": [
      "Bienvenido al Sistema Nahuel\n"
     ]
    }
   ],
   "source": [
    "# 2 - llamar a la función “usuario”\n",
    "\n",
    "usuario(\"Nahuel\")"
   ]
  },
  {
   "cell_type": "code",
   "execution_count": 5,
   "metadata": {},
   "outputs": [
    {
     "data": {
      "text/plain": [
       "35"
      ]
     },
     "execution_count": 5,
     "metadata": {},
     "output_type": "execute_result"
    }
   ],
   "source": [
    "# 3 - Escribe una función que tome dos números como argumentos y devuelva su suma.\n",
    "\n",
    "def suma(num1,num2):\n",
    "    return num1 + num2\n",
    "suma(10,25)"
   ]
  },
  {
   "cell_type": "code",
   "execution_count": 11,
   "metadata": {},
   "outputs": [],
   "source": [
    "# 4 - Crea una función que reciba dos números y una operación (suma, resta, multiplicación, división) \n",
    "# y devuelva el resultado.\n",
    "\n",
    "def operacion(num1,num2,opera):\n",
    "    if opera == \"suma\":\n",
    "        resultado = num1 + num2\n",
    "    elif opera == \"resta\":\n",
    "        resultado = num1 - num2    \n",
    "    elif opera == \"multiplicacion\":\n",
    "        resultado = num1 * num2\n",
    "    else:\n",
    "        resultado = num1 / num2\n",
    "    return resultado\n"
   ]
  },
  {
   "cell_type": "code",
   "execution_count": 13,
   "metadata": {},
   "outputs": [
    {
     "name": "stdout",
     "output_type": "stream",
     "text": [
      "6\n",
      "2\n",
      "8\n",
      "2.0\n"
     ]
    }
   ],
   "source": [
    "# 4 - Prueba Ejercicio 4\n",
    "resultado = operacion(4, 2, 'suma')\n",
    "print(resultado) \n",
    "\n",
    "resultado = operacion(4, 2, 'resta')\n",
    "print(resultado) \n",
    "\n",
    "resultado = operacion(4, 2, 'multiplicacion')\n",
    "print(resultado)  \n",
    "\n",
    "resultado = operacion(4, 2, 'division')\n",
    "print(resultado)  "
   ]
  },
  {
   "cell_type": "code",
   "execution_count": 7,
   "metadata": {},
   "outputs": [
    {
     "data": {
      "text/plain": [
       "0.3448275862068966"
      ]
     },
     "execution_count": 7,
     "metadata": {},
     "output_type": "execute_result"
    }
   ],
   "source": [
    "# 5 - Conversor de moneda: Crea una función que convierta de pesos a dólares, \n",
    "# que reciba como parámetro la cantidad de pesos y el valor del dólar y devuelva la cantidad de dólares.\n",
    "\n",
    "def dolar(pesos,dolar = 290):\n",
    "    return pesos / dolar\n",
    "dolar(100)"
   ]
  },
  {
   "cell_type": "code",
   "execution_count": null,
   "metadata": {},
   "outputs": [],
   "source": [
    "# 6 - Escribe una función que tome una lista de números como argumento y \n",
    "# devuelva la suma de los números positivos y la suma de los números negativos en una tupla.\n",
    "\n"
   ]
  },
  {
   "cell_type": "code",
   "execution_count": null,
   "metadata": {},
   "outputs": [],
   "source": [
    "#7-Crear una función que reciba un número como parámetro y devuelva True si es primo y False si no lo es.\n"
   ]
  },
  {
   "cell_type": "code",
   "execution_count": null,
   "metadata": {},
   "outputs": [],
   "source": [
    "# 8 - Escribe una función que tome una lista de números como argumento y devuelva \n",
    "# el número más grande y el número más pequeño en una tupla."
   ]
  }
 ],
 "metadata": {
  "kernelspec": {
   "display_name": "Python 3",
   "language": "python",
   "name": "python3"
  },
  "language_info": {
   "codemirror_mode": {
    "name": "ipython",
    "version": 3
   },
   "file_extension": ".py",
   "mimetype": "text/x-python",
   "name": "python",
   "nbconvert_exporter": "python",
   "pygments_lexer": "ipython3",
   "version": "3.9.13"
  },
  "orig_nbformat": 4
 },
 "nbformat": 4,
 "nbformat_minor": 2
}

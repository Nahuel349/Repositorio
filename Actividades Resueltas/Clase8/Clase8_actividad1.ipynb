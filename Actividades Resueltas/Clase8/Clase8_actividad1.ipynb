{
 "cells": [
  {
   "attachments": {},
   "cell_type": "markdown",
   "metadata": {},
   "source": [
    "1. Crear una función llamada “usuario” que reciba como parámetro un\n",
    "nombre y devuelva un mensaje “Bienvenido al sistema {nombre}”."
   ]
  },
  {
   "cell_type": "code",
   "execution_count": 1,
   "metadata": {},
   "outputs": [],
   "source": [
    "def usuario(nombre):\n",
    "    print(f\"Bienvenido al sistema {nombre}\")    "
   ]
  },
  {
   "attachments": {},
   "cell_type": "markdown",
   "metadata": {},
   "source": [
    "2. llamar a la función “usuario”"
   ]
  },
  {
   "cell_type": "code",
   "execution_count": 2,
   "metadata": {},
   "outputs": [
    {
     "name": "stdout",
     "output_type": "stream",
     "text": [
      "Bienvenido al sistema Gonzalo\n"
     ]
    }
   ],
   "source": [
    "usuario(\"Gonzalo\") #Realizo la llamda a la función con el argumento Gonzalo"
   ]
  },
  {
   "attachments": {},
   "cell_type": "markdown",
   "metadata": {},
   "source": [
    "3. Escribe una función que tome dos números como argumentos y\n",
    "devuelva su suma."
   ]
  },
  {
   "cell_type": "code",
   "execution_count": 3,
   "metadata": {},
   "outputs": [],
   "source": [
    "def sumar(numero1,numero2):\n",
    "    return numero1+numero2"
   ]
  },
  {
   "attachments": {},
   "cell_type": "markdown",
   "metadata": {},
   "source": [
    "4. Crea una función que reciba dos números y una operación (suma,\n",
    "resta, multiplicación, división) y devuelva el resultado."
   ]
  },
  {
   "cell_type": "code",
   "execution_count": 5,
   "metadata": {},
   "outputs": [],
   "source": [
    "def operaciones(numero1,numero2,operacion):\n",
    "    operacion =operacion.lower()\n",
    "    if (operacion == \"suma\"):\n",
    "        return numero1+numero2\n",
    "    elif (operacion ==\"resta\"):\n",
    "        return numero1-numero2\n",
    "    elif (operacion==\"multiplicacion\"):\n",
    "        return numero1*numero2\n",
    "    elif (operacion==\"division\"):\n",
    "        return numero1/numero2"
   ]
  },
  {
   "attachments": {},
   "cell_type": "markdown",
   "metadata": {},
   "source": [
    "5. Conversor de moneda: Crea una función que convierta de pesos a dólares, que reciba como parámetro la cantidad de pesos y el valor del dólar y devuelva la cantidad de dólares."
   ]
  },
  {
   "cell_type": "code",
   "execution_count": 7,
   "metadata": {},
   "outputs": [],
   "source": [
    "def conversor_divisas(pesos,cotizacion_dolar):\n",
    "    dolar =pesos/cotizacion_dolar\n",
    "    return round (dolar,2)"
   ]
  },
  {
   "attachments": {},
   "cell_type": "markdown",
   "metadata": {},
   "source": [
    "6. Escribe una función que tome una lista de números como argumento y devuelva la suma de los números positivos y la suma de los números negativos en una tupla."
   ]
  },
  {
   "cell_type": "code",
   "execution_count": 8,
   "metadata": {},
   "outputs": [],
   "source": [
    "def positivos_negativos(lista):\n",
    "    suma_positivos=0\n",
    "    suma_negativos=0\n",
    "    for numero in lista:\n",
    "        if numero >0:\n",
    "            suma_positivos=suma_positivos+numero\n",
    "        else:\n",
    "            suma_negativos = suma_negativos + numero\n",
    "    return suma_positivos,suma_negativos"
   ]
  },
  {
   "attachments": {},
   "cell_type": "markdown",
   "metadata": {},
   "source": [
    "7. Crear una función que reciba un número como parámetro y devuelva True si es primo y False si no lo es."
   ]
  },
  {
   "cell_type": "code",
   "execution_count": 51,
   "metadata": {},
   "outputs": [],
   "source": [
    "def es_primo(numero):\n",
    "    if numero < 2:\n",
    "        return False\n",
    "    for n in range(2,numero,1):\n",
    "            if numero%n==0:\n",
    "                return False\n",
    "                break\n",
    "                \n",
    "    return True\n",
    "            "
   ]
  },
  {
   "attachments": {},
   "cell_type": "markdown",
   "metadata": {},
   "source": [
    "8. Escribe una función que tome una lista de números como argumento y devuelva el número más grande y el número más pequeño en una tupla."
   ]
  },
  {
   "cell_type": "code",
   "execution_count": 66,
   "metadata": {},
   "outputs": [],
   "source": [
    "def grande_pequeño(lista):\n",
    "    mas_grande=max(lista)\n",
    "    mas_pequeño=min(lista)\n",
    "    return mas_grande,mas_pequeño"
   ]
  }
 ],
 "metadata": {
  "kernelspec": {
   "display_name": "Python 3",
   "language": "python",
   "name": "python3"
  },
  "language_info": {
   "codemirror_mode": {
    "name": "ipython",
    "version": 3
   },
   "file_extension": ".py",
   "mimetype": "text/x-python",
   "name": "python",
   "nbconvert_exporter": "python",
   "pygments_lexer": "ipython3",
   "version": "3.11.4"
  },
  "orig_nbformat": 4
 },
 "nbformat": 4,
 "nbformat_minor": 2
}

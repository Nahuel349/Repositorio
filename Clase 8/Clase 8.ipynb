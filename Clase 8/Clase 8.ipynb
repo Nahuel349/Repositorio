{
 "cells": [
  {
   "cell_type": "code",
   "execution_count": 1,
   "metadata": {},
   "outputs": [],
   "source": [
    "# Funciones\n",
    "def saludo():\n",
    "    print(\"hola alumnos de programación II\")"
   ]
  },
  {
   "cell_type": "code",
   "execution_count": 2,
   "metadata": {},
   "outputs": [
    {
     "name": "stdout",
     "output_type": "stream",
     "text": [
      "hola alumnos de programación II\n"
     ]
    }
   ],
   "source": [
    "saludo()"
   ]
  },
  {
   "cell_type": "code",
   "execution_count": 3,
   "metadata": {},
   "outputs": [],
   "source": [
    "def saludo(nombre):\n",
    "    print(f\"Bienvenidos al Sistema: \",(nombre))"
   ]
  },
  {
   "cell_type": "code",
   "execution_count": 4,
   "metadata": {},
   "outputs": [
    {
     "name": "stdout",
     "output_type": "stream",
     "text": [
      "Bienvenidos al Sistema:  nahuel\n"
     ]
    }
   ],
   "source": [
    "saludo(\"nahuel\")"
   ]
  },
  {
   "cell_type": "code",
   "execution_count": 5,
   "metadata": {},
   "outputs": [],
   "source": [
    "def saludo1(nombre):\n",
    "    print(f\"Bienvenido al Sistema: {nombre}\")"
   ]
  },
  {
   "cell_type": "code",
   "execution_count": 6,
   "metadata": {},
   "outputs": [
    {
     "name": "stdout",
     "output_type": "stream",
     "text": [
      "Bienvenido al Sistema: Nahuel\n",
      "Bienvenido al Sistema: Thomas\n",
      "Bienvenido al Sistema: Alejandra\n"
     ]
    }
   ],
   "source": [
    "saludo1(\"Nahuel\")\n",
    "saludo1(\"Thomas\")\n",
    "saludo1(\"Alejandra\")"
   ]
  },
  {
   "cell_type": "code",
   "execution_count": 7,
   "metadata": {},
   "outputs": [],
   "source": [
    "def saludo2(nombre1, apellido, edad):\n",
    "    print(f\"Bienvenido al Sistema: {nombre1} {apellido} de edad {edad}\")"
   ]
  },
  {
   "cell_type": "code",
   "execution_count": 8,
   "metadata": {},
   "outputs": [
    {
     "name": "stdout",
     "output_type": "stream",
     "text": [
      "Bienvenido al Sistema: Nahuel Constenla de edad 45\n"
     ]
    }
   ],
   "source": [
    "saludo2(\"Nahuel\",\"Constenla\",45)"
   ]
  },
  {
   "cell_type": "code",
   "execution_count": 9,
   "metadata": {},
   "outputs": [],
   "source": [
    "# Parametro con valor por defecto\n",
    "def division(dividendo,divisor=1):\n",
    "    return dividendo/divisor"
   ]
  },
  {
   "cell_type": "code",
   "execution_count": 10,
   "metadata": {},
   "outputs": [
    {
     "data": {
      "text/plain": [
       "15.0"
      ]
     },
     "execution_count": 10,
     "metadata": {},
     "output_type": "execute_result"
    }
   ],
   "source": [
    "division(15)"
   ]
  },
  {
   "cell_type": "code",
   "execution_count": 11,
   "metadata": {},
   "outputs": [],
   "source": [
    "# Tipo de datos explicitos para los parametros\n",
    "def operacion(num:int,num1:float):\n",
    "    return num * num1"
   ]
  },
  {
   "cell_type": "code",
   "execution_count": 12,
   "metadata": {},
   "outputs": [
    {
     "data": {
      "text/plain": [
       "9.0"
      ]
     },
     "execution_count": 12,
     "metadata": {},
     "output_type": "execute_result"
    }
   ],
   "source": [
    "division (45,5)"
   ]
  },
  {
   "cell_type": "code",
   "execution_count": 13,
   "metadata": {},
   "outputs": [
    {
     "data": {
      "text/plain": [
       "9.0"
      ]
     },
     "execution_count": 13,
     "metadata": {},
     "output_type": "execute_result"
    }
   ],
   "source": [
    "division (divisor=5,dividendo=45)"
   ]
  },
  {
   "cell_type": "code",
   "execution_count": 14,
   "metadata": {},
   "outputs": [],
   "source": [
    "def operacion1(num,num1):\n",
    "    return num * num1"
   ]
  },
  {
   "cell_type": "code",
   "execution_count": 15,
   "metadata": {},
   "outputs": [
    {
     "name": "stdout",
     "output_type": "stream",
     "text": [
      "El resultado es mayor\n"
     ]
    }
   ],
   "source": [
    "resultado1 = operacion1(9,5)\n",
    "if resultado1 > 40:\n",
    "    print(\"El resultado es mayor\")\n",
    "else:\n",
    "    print (\"El resultado es menor\")"
   ]
  },
  {
   "cell_type": "code",
   "execution_count": 16,
   "metadata": {},
   "outputs": [],
   "source": [
    "# Defino un Variable llamada datos Personales\n",
    "def obtener_datos_persona():\n",
    "    nombres3 = \"Nahuel\"\n",
    "    apellido3 = \"Constenla\"\n",
    "    edad3 = 45\n",
    "    domicilio3 = \"Puyen 363\"\n",
    "    return nombres3,apellido3,edad3,domicilio3 "
   ]
  },
  {
   "cell_type": "code",
   "execution_count": 17,
   "metadata": {},
   "outputs": [
    {
     "name": "stdout",
     "output_type": "stream",
     "text": [
      "('Nahuel', 'Constenla', 45, 'Puyen 363')\n",
      "<class 'tuple'>\n"
     ]
    }
   ],
   "source": [
    "personanita = obtener_datos_persona()\n",
    "print(personanita)\n",
    "print(type(personanita))"
   ]
  },
  {
   "cell_type": "code",
   "execution_count": 18,
   "metadata": {},
   "outputs": [],
   "source": [
    "# lo que tengo en la Tupla Personita lo guardo en variables\n",
    "nombre3,apellido3,edad3,domicilio3 = personanita"
   ]
  },
  {
   "cell_type": "code",
   "execution_count": 19,
   "metadata": {},
   "outputs": [
    {
     "name": "stdout",
     "output_type": "stream",
     "text": [
      "El Nombre es Nahuel\n",
      "El apellido es Constenla\n",
      "Tengo la edad de 45\n",
      "Y vivo en Puyen 363\n"
     ]
    }
   ],
   "source": [
    "print (f\"El Nombre es {nombre3}\")\n",
    "print (f\"El apellido es {apellido3}\")\n",
    "print (f\"Tengo la edad de {edad3}\")\n",
    "print (f\"Y vivo en {domicilio3}\")"
   ]
  },
  {
   "cell_type": "code",
   "execution_count": 20,
   "metadata": {},
   "outputs": [
    {
     "name": "stdout",
     "output_type": "stream",
     "text": [
      "Sos mayor de edad\n"
     ]
    }
   ],
   "source": [
    "if edad3 > 18:\n",
    "    print(\"Sos mayor de edad\")\n",
    "else:\n",
    "    print (\"Son menor de edad\")"
   ]
  },
  {
   "cell_type": "code",
   "execution_count": 38,
   "metadata": {},
   "outputs": [
    {
     "name": "stdout",
     "output_type": "stream",
     "text": [
      "args:(),kwargs:{}\n"
     ]
    }
   ],
   "source": [
    "# funcion sin cantidad de elementos\n",
    "def mi_funcion (*args,**kwargs):\n",
    "    print (f\"args:{args},kwargs:{kwargs}\")\n",
    "\n",
    "mi_funcion()\n",
    "args:()\n",
    "kwargs:{}"
   ]
  },
  {
   "cell_type": "code",
   "execution_count": 41,
   "metadata": {},
   "outputs": [
    {
     "name": "stdout",
     "output_type": "stream",
     "text": [
      "args:(42,),kwargs:{}\n",
      "args:(),kwargs:{'vehiculo': 'Coche'}\n",
      "args:(345, 'Juan'),kwargs:{'modo': 'Vuelo', 'flag': 'Activado'}\n"
     ]
    }
   ],
   "source": [
    "mi_funcion(42)\n",
    "args:(42,)\n",
    "kwargs:{}\n",
    "mi_funcion(vehiculo = \"Coche\")\n",
    "args:()\n",
    "kwargs:{\"vehiculo\":\"Coche\"}\n",
    "mi_funcion(345,\"Juan\",modo = \"Vuelo\", flag = \"Activado\")\n",
    "args: (345, \"Juan\")\n",
    "kwargs:{\"modo\":\"Vuelo\",\"flag\":\"Activado\"}"
   ]
  },
  {
   "cell_type": "code",
   "execution_count": 33,
   "metadata": {},
   "outputs": [
    {
     "name": "stdout",
     "output_type": "stream",
     "text": [
      "15\n"
     ]
    }
   ],
   "source": [
    "# Funcion Sumar\n",
    "def sumar(*args):\n",
    "    total = 0 \n",
    "    for num in args:\n",
    "        total += num\n",
    "    return total\n",
    "\n",
    "# Llamar a la Funcion con argumentos posicionales\n",
    "resultado10 = sumar(1, 2, 3, 4, 5) \n",
    "print (resultado10) # salida da 15"
   ]
  },
  {
   "cell_type": "code",
   "execution_count": 35,
   "metadata": {},
   "outputs": [
    {
     "name": "stdout",
     "output_type": "stream",
     "text": [
      "nombre5: Juan\n",
      "apellido5: Perez\n",
      "edad5: 30\n",
      "direccion5: Moyano 12345\n"
     ]
    }
   ],
   "source": [
    "# Por medio de Clave Valor\n",
    "def mostrar_informacion (**kwargs):\n",
    "    for clave, valor in kwargs.items():\n",
    "        print(clave + \": \" + valor)\n",
    "\n",
    "# LLamar a la funcion con clave valor\n",
    "mostrar_informacion(nombre5=\"Juan\",apellido5=\"Perez\",edad5=\"30\",direccion5=\"Moyano 12345\")"
   ]
  },
  {
   "cell_type": "code",
   "execution_count": 2,
   "metadata": {},
   "outputs": [
    {
     "data": {
      "text/plain": [
       "45"
      ]
     },
     "execution_count": 2,
     "metadata": {},
     "output_type": "execute_result"
    }
   ],
   "source": [
    "# Funcion Anonima - Lambda\n",
    "numero_x_3 = lambda x: x * 3\n",
    "numero_x_3 (15)"
   ]
  },
  {
   "cell_type": "code",
   "execution_count": 3,
   "metadata": {},
   "outputs": [],
   "source": [
    "# Funcion dentro de una funcion\n",
    "def telefono_con_prefijo(prefijo_pais):\n",
    "    def f_telefono(numero_telefono):\n",
    "        return f\"+{prefijo_pais}{numero_telefono}\"\n",
    "    return f_telefono"
   ]
  },
  {
   "cell_type": "code",
   "execution_count": 4,
   "metadata": {},
   "outputs": [
    {
     "data": {
      "text/plain": [
       "'+542964493053'"
      ]
     },
     "execution_count": 4,
     "metadata": {},
     "output_type": "execute_result"
    }
   ],
   "source": [
    "telefono_argentina = telefono_con_prefijo (54)\n",
    "telefono_argentina (2964493053)"
   ]
  },
  {
   "cell_type": "code",
   "execution_count": 5,
   "metadata": {},
   "outputs": [
    {
     "name": "stdout",
     "output_type": "stream",
     "text": [
      "30\n",
      "50\n",
      "100\n"
     ]
    }
   ],
   "source": [
    "# return: se utiliza para devolver el resultado de una Funcion\n",
    "def la_funcion(numero15):\n",
    "    return 10 * numero15\n",
    "print(la_funcion(3))\n",
    "print(la_funcion(5))\n",
    "print(la_funcion(10))\n"
   ]
  },
  {
   "cell_type": "code",
   "execution_count": 6,
   "metadata": {},
   "outputs": [],
   "source": [
    "# Funcion sin Contenido\n",
    "def tu_funcion():\n",
    "    pass"
   ]
  },
  {
   "cell_type": "code",
   "execution_count": 7,
   "metadata": {},
   "outputs": [
    {
     "data": {
      "text/plain": [
       "40"
      ]
     },
     "execution_count": 7,
     "metadata": {},
     "output_type": "execute_result"
    }
   ],
   "source": [
    "# Variables Globales y Locales en una Funcion\n",
    "# Variable Global\n",
    "variable_global = 30\n",
    "def funcion_numerito(numerex):\n",
    "    return numerex + variable_global\n",
    "funcion_numerito(10)\n"
   ]
  },
  {
   "cell_type": "code",
   "execution_count": 15,
   "metadata": {},
   "outputs": [
    {
     "data": {
      "text/plain": [
       "120"
      ]
     },
     "execution_count": 15,
     "metadata": {},
     "output_type": "execute_result"
    }
   ],
   "source": [
    "# Variable Gobal que se incrementa\n",
    "def funcion_numerito(numero20):\n",
    "    global variable_global\n",
    "    variable_global += 20\n",
    "    return numero20 + variable_global\n",
    "\n",
    "funcion_numerito(30)"
   ]
  },
  {
   "cell_type": "code",
   "execution_count": 16,
   "metadata": {},
   "outputs": [],
   "source": [
    "# Documentacion de Funciones\n",
    "def suma_pares (elementos):\n",
    "    \"\"\"Suma elementos pares encontrados en elementos\n",
    "    :parametros elementos: Lista de numeros por sumar\n",
    "    :return interger: numero resultante de la suma de los pares\"\"\"\n",
    "    suma1=0\n",
    "    for pares in elementos:\n",
    "        if pares %2 ==0:\n",
    "            suma += pares\n",
    "    return suma1"
   ]
  },
  {
   "cell_type": "code",
   "execution_count": 20,
   "metadata": {},
   "outputs": [
    {
     "name": "stdout",
     "output_type": "stream",
     "text": [
      "Help on function suma_pares in module __main__:\n",
      "\n",
      "suma_pares(elementos)\n",
      "    Suma elementos pares encontrados en elementos\n",
      "    :parametros elementos: Lista de numeros por sumar\n",
      "    :return interger: numero resultante de la suma de los pares\n",
      "\n"
     ]
    }
   ],
   "source": [
    "help(suma_pares)"
   ]
  },
  {
   "cell_type": "code",
   "execution_count": 3,
   "metadata": {},
   "outputs": [],
   "source": [
    "# Excepciones\n",
    "def busca_elemento(obj,indice_o_clave):\n",
    "    try:\n",
    "        return obj[indice_o_clave]\n",
    "    except IndexError:\n",
    "        print(f\"indice {indice_o_clave} utilizado no accesible\")\n",
    "    except KeyError:\n",
    "        print(f\"Clave {indice_o_clave} utilizado no accesible\")\n",
    "    except Exception as e: # Cualquier tipo de Excepción\n",
    "        print(f\"Excepción inesperada {e}\")"
   ]
  },
  {
   "cell_type": "code",
   "execution_count": 5,
   "metadata": {},
   "outputs": [
    {
     "data": {
      "text/plain": [
       "4"
      ]
     },
     "execution_count": 5,
     "metadata": {},
     "output_type": "execute_result"
    }
   ],
   "source": [
    "# Con un objeto y un Indice Correcto\n",
    "mi_listita = [1,2,3,4]\n",
    "busca_elemento(mi_listita,3)"
   ]
  },
  {
   "cell_type": "code",
   "execution_count": 6,
   "metadata": {},
   "outputs": [
    {
     "name": "stdout",
     "output_type": "stream",
     "text": [
      "indice 10 utilizado no accesible\n"
     ]
    }
   ],
   "source": [
    "busca_elemento(mi_listita,10)"
   ]
  }
 ],
 "metadata": {
  "kernelspec": {
   "display_name": "Python 3",
   "language": "python",
   "name": "python3"
  },
  "language_info": {
   "codemirror_mode": {
    "name": "ipython",
    "version": 3
   },
   "file_extension": ".py",
   "mimetype": "text/x-python",
   "name": "python",
   "nbconvert_exporter": "python",
   "pygments_lexer": "ipython3",
   "version": "3.11.4"
  },
  "orig_nbformat": 4
 },
 "nbformat": 4,
 "nbformat_minor": 2
}

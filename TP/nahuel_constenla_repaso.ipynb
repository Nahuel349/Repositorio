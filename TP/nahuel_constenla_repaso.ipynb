{
 "cells": [
  {
   "cell_type": "code",
   "execution_count": 1,
   "metadata": {},
   "outputs": [
    {
     "name": "stdout",
     "output_type": "stream",
     "text": [
      "['montevideo', 'florianopolis', 'bogota', 'caracas', 'miami', 'madrid', 'paris', 'roma']\n"
     ]
    }
   ],
   "source": [
    "# 1\n",
    "ciudades = [\"montevideo\",\"florianopolis\",\"bogota\",\"caracas\",\"miami\",\"madrid\",\"paris\",\"roma\"]\n",
    "print (ciudades)"
   ]
  },
  {
   "cell_type": "code",
   "execution_count": 5,
   "metadata": {},
   "outputs": [
    {
     "data": {
      "text/plain": [
       "'florianopolis'"
      ]
     },
     "execution_count": 5,
     "metadata": {},
     "output_type": "execute_result"
    }
   ],
   "source": [
    "#2\n",
    "ciudades[1]"
   ]
  },
  {
   "cell_type": "code",
   "execution_count": 8,
   "metadata": {},
   "outputs": [
    {
     "data": {
      "text/plain": [
       "['florianopolis', 'bogota', 'caracas']"
      ]
     },
     "execution_count": 8,
     "metadata": {},
     "output_type": "execute_result"
    }
   ],
   "source": [
    "#3\n",
    "ciudades[1:4]"
   ]
  },
  {
   "cell_type": "code",
   "execution_count": 13,
   "metadata": {},
   "outputs": [
    {
     "name": "stdout",
     "output_type": "stream",
     "text": [
      "['montevideo', 'florianopolis', 'bogota', 'caracas', 'miami', 'madrid', 'paris', 'roma', 'berlin', 'miami', 'miami', 'berlin']\n"
     ]
    }
   ],
   "source": [
    "#4\n",
    "ciudades.append(\"miami\")\n",
    "ciudades.append(\"berlin\")\n",
    "print(ciudades)"
   ]
  },
  {
   "cell_type": "code",
   "execution_count": 14,
   "metadata": {},
   "outputs": [
    {
     "name": "stdout",
     "output_type": "stream",
     "text": [
      "['montevideo', 'florianopolis', 'bogota', 'barcelona', 'caracas', 'miami', 'madrid', 'paris', 'roma', 'berlin', 'miami', 'miami', 'berlin']\n"
     ]
    }
   ],
   "source": [
    "#5\n",
    "ciudades.insert(3,\"barcelona\")\n",
    "print(ciudades)"
   ]
  },
  {
   "cell_type": "code",
   "execution_count": 15,
   "metadata": {},
   "outputs": [
    {
     "name": "stdout",
     "output_type": "stream",
     "text": [
      "['montevideo', 'florianopolis', 'bogota', 'barcelona', 'caracas', 'miami', 'madrid', 'paris', 'roma', 'berlin', 'miami', 'miami', 'berlin', 'uruguay', 'brasil', 'venezuela', 'EEUU', 'colombia', 'españa', 'francia', 'alemania']\n"
     ]
    }
   ],
   "source": [
    "#6\n",
    "paises = [\"uruguay\",\"brasil\",\"venezuela\",\"EEUU\",\"colombia\",\"españa\",\"francia\",\"alemania\"]\n",
    "ciudades.extend(paises)\n",
    "print(ciudades)"
   ]
  },
  {
   "cell_type": "code",
   "execution_count": 17,
   "metadata": {},
   "outputs": [
    {
     "name": "stdout",
     "output_type": "stream",
     "text": [
      "<class 'tuple'>\n",
      "(1, 2, 3, 4, 5, 6, 7, 8, 9, 10, 11, 12, 13, 14, 15, 16, 17, 18, 19, 20)\n"
     ]
    }
   ],
   "source": [
    "#7\n",
    "numeros = (1,2,3,4,5,6,7,8,9,10,11,12,13,14,15,16,17,18,19,20)\n",
    "print(type(numeros))\n",
    "print(numeros)"
   ]
  },
  {
   "cell_type": "code",
   "execution_count": 21,
   "metadata": {},
   "outputs": [
    {
     "name": "stdout",
     "output_type": "stream",
     "text": [
      "(10, 11, 12, 13, 14, 15)\n"
     ]
    }
   ],
   "source": [
    "#8\n",
    "print(numeros[9:15])"
   ]
  },
  {
   "cell_type": "code",
   "execution_count": 34,
   "metadata": {},
   "outputs": [
    {
     "name": "stdout",
     "output_type": "stream",
     "text": [
      "1\n",
      "5\n",
      "9\n"
     ]
    }
   ],
   "source": [
    "#9 VER\n",
    "numero = (1,5,9)\n",
    "primero, segundo, tercero = numero\n",
    "print(primero)\n",
    "print(segundo)\n",
    "print(tercero)"
   ]
  },
  {
   "cell_type": "code",
   "execution_count": null,
   "metadata": {},
   "outputs": [],
   "source": [
    "#10\n",
    "ciudades = {\"montevideo\",\"florianopolis\",\"bogota\",\"caracas\",\"miami\",\"madrid\",\"paris\",\"roma\"}"
   ]
  }
 ],
 "metadata": {
  "kernelspec": {
   "display_name": "Python 3",
   "language": "python",
   "name": "python3"
  },
  "language_info": {
   "codemirror_mode": {
    "name": "ipython",
    "version": 3
   },
   "file_extension": ".py",
   "mimetype": "text/x-python",
   "name": "python",
   "nbconvert_exporter": "python",
   "pygments_lexer": "ipython3",
   "version": "3.9.13"
  },
  "orig_nbformat": 4
 },
 "nbformat": 4,
 "nbformat_minor": 2
}

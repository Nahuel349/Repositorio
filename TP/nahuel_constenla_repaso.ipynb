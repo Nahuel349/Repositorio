{
 "cells": [
  {
   "cell_type": "code",
   "execution_count": 27,
   "metadata": {},
   "outputs": [
    {
     "name": "stdout",
     "output_type": "stream",
     "text": [
      "['montevideo', 'florianopolis', 'bogota', 'caracas', 'miami', 'madrid', 'paris', 'roma']\n"
     ]
    }
   ],
   "source": [
    "#1\n",
    "ciudades = [\"montevideo\",\"florianopolis\",\"bogota\",\"caracas\",\"miami\",\"madrid\",\"paris\",\"roma\"]\n",
    "print (ciudades)"
   ]
  },
  {
   "cell_type": "code",
   "execution_count": 28,
   "metadata": {},
   "outputs": [
    {
     "data": {
      "text/plain": [
       "'florianopolis'"
      ]
     },
     "execution_count": 28,
     "metadata": {},
     "output_type": "execute_result"
    }
   ],
   "source": [
    "#2\n",
    "ciudades[1]"
   ]
  },
  {
   "cell_type": "code",
   "execution_count": 29,
   "metadata": {},
   "outputs": [
    {
     "data": {
      "text/plain": [
       "['florianopolis', 'bogota', 'caracas']"
      ]
     },
     "execution_count": 29,
     "metadata": {},
     "output_type": "execute_result"
    }
   ],
   "source": [
    "#3\n",
    "ciudades[1:4]"
   ]
  },
  {
   "cell_type": "code",
   "execution_count": 30,
   "metadata": {},
   "outputs": [
    {
     "name": "stdout",
     "output_type": "stream",
     "text": [
      "['montevideo', 'florianopolis', 'bogota', 'caracas', 'miami', 'madrid', 'paris', 'roma', 'miami', 'berlin']\n"
     ]
    }
   ],
   "source": [
    "#4\n",
    "ciudades.append(\"miami\")\n",
    "ciudades.append(\"berlin\")\n",
    "print(ciudades)"
   ]
  },
  {
   "cell_type": "code",
   "execution_count": 31,
   "metadata": {},
   "outputs": [
    {
     "name": "stdout",
     "output_type": "stream",
     "text": [
      "['montevideo', 'florianopolis', 'bogota', 'barcelona', 'caracas', 'miami', 'madrid', 'paris', 'roma', 'miami', 'berlin']\n"
     ]
    }
   ],
   "source": [
    "#5\n",
    "ciudades.insert(3,\"barcelona\")\n",
    "print(ciudades)"
   ]
  },
  {
   "cell_type": "code",
   "execution_count": 40,
   "metadata": {},
   "outputs": [
    {
     "name": "stdout",
     "output_type": "stream",
     "text": [
      "['montevideo', 'florianopolis', 'bogota', 'barcelona', 'caracas', 'miami', 'madrid', 'paris', 'roma', 'miami', 'berlin', 'uruguay', 'brasil', 'venezuela', 'EEUU', 'colombia', 'españa', 'francia', 'alemania']\n"
     ]
    }
   ],
   "source": [
    "#6\n",
    "ciudades1 = []\n",
    "paises = [\"uruguay\",\"brasil\",\"venezuela\",\"EEUU\",\"colombia\",\"españa\",\"francia\",\"alemania\"]\n",
    "ciudades1.extend(ciudades)\n",
    "ciudades1.extend(paises)\n",
    "print(ciudades1)"
   ]
  },
  {
   "cell_type": "code",
   "execution_count": 33,
   "metadata": {},
   "outputs": [
    {
     "name": "stdout",
     "output_type": "stream",
     "text": [
      "<class 'tuple'>\n",
      "(1, 2, 3, 4, 5, 6, 7, 8, 9, 10, 11, 12, 13, 14, 15, 16, 17, 18, 19, 20)\n"
     ]
    }
   ],
   "source": [
    "#7\n",
    "numeros = (1,2,3,4,5,6,7,8,9,10,11,12,13,14,15,16,17,18,19,20)\n",
    "print(type(numeros))\n",
    "print(numeros)"
   ]
  },
  {
   "cell_type": "code",
   "execution_count": 34,
   "metadata": {},
   "outputs": [
    {
     "name": "stdout",
     "output_type": "stream",
     "text": [
      "(10, 11, 12, 13, 14, 15)\n"
     ]
    }
   ],
   "source": [
    "#8\n",
    "print(numeros[9:15])"
   ]
  },
  {
   "cell_type": "code",
   "execution_count": 35,
   "metadata": {},
   "outputs": [
    {
     "name": "stdout",
     "output_type": "stream",
     "text": [
      "1\n",
      "2\n",
      "3\n"
     ]
    }
   ],
   "source": [
    "#9 \n",
    "primero, segundo, tercero,*cuarto = numeros\n",
    "print(primero)\n",
    "print(segundo)\n",
    "print(tercero)"
   ]
  },
  {
   "cell_type": "code",
   "execution_count": 36,
   "metadata": {},
   "outputs": [],
   "source": [
    "#10\n",
    "dicionario_ciudad = {\"ciudad\":ciudades,\"pais\":\"\",\"continente\":\"\"}"
   ]
  },
  {
   "cell_type": "code",
   "execution_count": 37,
   "metadata": {},
   "outputs": [
    {
     "data": {
      "text/plain": [
       "dict_keys(['ciudad', 'pais', 'continente'])"
      ]
     },
     "execution_count": 37,
     "metadata": {},
     "output_type": "execute_result"
    }
   ],
   "source": [
    "#11\n",
    "dicionario_ciudad.keys()"
   ]
  },
  {
   "cell_type": "code",
   "execution_count": 41,
   "metadata": {},
   "outputs": [
    {
     "data": {
      "text/plain": [
       "['montevideo',\n",
       " 'florianopolis',\n",
       " 'bogota',\n",
       " 'barcelona',\n",
       " 'caracas',\n",
       " 'miami',\n",
       " 'madrid',\n",
       " 'paris',\n",
       " 'roma',\n",
       " 'miami',\n",
       " 'berlin']"
      ]
     },
     "execution_count": 41,
     "metadata": {},
     "output_type": "execute_result"
    }
   ],
   "source": [
    "#12\n",
    "dicionario_ciudad[\"ciudad\"]"
   ]
  },
  {
   "cell_type": "code",
   "execution_count": 39,
   "metadata": {},
   "outputs": [
    {
     "ename": "ValueError",
     "evalue": "invalid literal for int() with base 10: ''",
     "output_type": "error",
     "traceback": [
      "\u001b[1;31m---------------------------------------------------------------------------\u001b[0m",
      "\u001b[1;31mValueError\u001b[0m                                Traceback (most recent call last)",
      "Cell \u001b[1;32mIn[39], line 2\u001b[0m\n\u001b[0;32m      1\u001b[0m \u001b[39m#13\u001b[39;00m\n\u001b[1;32m----> 2\u001b[0m numero \u001b[39m=\u001b[39m \u001b[39mint\u001b[39;49m(\u001b[39minput\u001b[39;49m(\u001b[39m\"\u001b[39;49m\u001b[39mingrese un Numero\u001b[39;49m\u001b[39m\"\u001b[39;49m))\n\u001b[0;32m      3\u001b[0m \u001b[39mif\u001b[39;00m numero \u001b[39m>\u001b[39m \u001b[39m0\u001b[39m:\n\u001b[0;32m      4\u001b[0m     \u001b[39mprint\u001b[39m(\u001b[39m\"\u001b[39m\u001b[39mel Numero Ingresado es Mayor\u001b[39m\u001b[39m\"\u001b[39m)\n",
      "\u001b[1;31mValueError\u001b[0m: invalid literal for int() with base 10: ''"
     ]
    }
   ],
   "source": [
    "#13\n",
    "numero = int(input(\"ingrese un Numero\"))\n",
    "if numero > 0:\n",
    "    print(\"el Numero Ingresado es Mayor\")\n",
    "else: \n",
    "    print (\"el Numero Ingresado es Menor\")\n"
   ]
  },
  {
   "cell_type": "code",
   "execution_count": null,
   "metadata": {},
   "outputs": [
    {
     "data": {
      "text/plain": [
       "(int, str)"
      ]
     },
     "execution_count": 29,
     "metadata": {},
     "output_type": "execute_result"
    }
   ],
   "source": [
    "#14 \n",
    "numero = int(input(\"Ingrese un Numero\"))\n",
    "dato = str(input(\"Ingrese una palabra\"))\n",
    "type(numero), type(dato)"
   ]
  },
  {
   "cell_type": "code",
   "execution_count": null,
   "metadata": {},
   "outputs": [
    {
     "name": "stdout",
     "output_type": "stream",
     "text": [
      "1 es impar.\n",
      "2 es par.\n",
      "3 es impar.\n",
      "4 es par.\n",
      "5 es impar.\n",
      "6 es par.\n",
      "7 es impar.\n",
      "8 es par.\n",
      "9 es impar.\n",
      "10 es par.\n",
      "11 es impar.\n",
      "12 es par.\n",
      "13 es impar.\n",
      "14 es par.\n",
      "15 es impar.\n",
      "16 es par.\n",
      "17 es impar.\n",
      "18 es par.\n",
      "19 es impar.\n",
      "20 es par.\n"
     ]
    }
   ],
   "source": [
    "#15\n",
    "i = 0\n",
    "while i < 20:\n",
    "    i+=1\n",
    "    if i % 2 == 0:\n",
    "        print(i, \"es par.\")\n",
    "    else:\n",
    "        print(i, \"es impar.\")\n",
    " "
   ]
  },
  {
   "cell_type": "code",
   "execution_count": null,
   "metadata": {},
   "outputs": [
    {
     "name": "stdout",
     "output_type": "stream",
     "text": [
      "0\n",
      "1\n",
      "8\n",
      "27\n",
      "64\n",
      "125\n"
     ]
    }
   ],
   "source": [
    "#16\n",
    "for numero in range(0,6):\n",
    "    numero = numero **3\n",
    "    print (numero)   "
   ]
  },
  {
   "cell_type": "code",
   "execution_count": null,
   "metadata": {},
   "outputs": [
    {
     "name": "stdout",
     "output_type": "stream",
     "text": [
      "0\n",
      "1\n"
     ]
    }
   ],
   "source": [
    "#17\n",
    "numero = int(input(\"Ingrese un Numero\"))\n",
    "for numero in range(numero):\n",
    "    print(numero)"
   ]
  },
  {
   "cell_type": "code",
   "execution_count": null,
   "metadata": {},
   "outputs": [
    {
     "name": "stdout",
     "output_type": "stream",
     "text": [
      "el Factorial de  3  es  6\n"
     ]
    }
   ],
   "source": [
    "#18 - ver\n",
    "numero = int(input(\"Ingrese un Numero\"))\n",
    "factorial = 1\n",
    "for i in range (1, numero+1):\n",
    "    factorial *= i\n",
    "print(\"el Factorial de \",numero, \" es \",factorial)\n"
   ]
  },
  {
   "cell_type": "code",
   "execution_count": null,
   "metadata": {},
   "outputs": [
    {
     "name": "stdout",
     "output_type": "stream",
     "text": [
      "El factorial es: 6\n"
     ]
    }
   ],
   "source": [
    "#18 - Bis\n",
    "# Ingresar el número para calcular el factorial\n",
    "numero = int(input(\"Ingrese un número: \"))\n",
    "\n",
    "# Validar si el número es negativo\n",
    "if numero < 0:\n",
    "    print(\"El factorial no está definido para números negativos.\")\n",
    "else:\n",
    "    # Inicializar la variable factorial\n",
    "    factorial = 1\n",
    "    \n",
    "    # Calcular el factorial utilizando un ciclo while\n",
    "    while numero > 0:\n",
    "        factorial *= numero\n",
    "        numero -= 1\n",
    "    \n",
    "    # Imprimir el resultado del factorial\n",
    "    print(\"El factorial es:\", factorial)\n"
   ]
  },
  {
   "cell_type": "code",
   "execution_count": null,
   "metadata": {},
   "outputs": [
    {
     "name": "stdout",
     "output_type": "stream",
     "text": [
      "108\n",
      "120\n",
      "132\n",
      "144\n",
      "156\n",
      "168\n",
      "180\n",
      "192\n",
      "204\n",
      "216\n",
      "228\n",
      "240\n",
      "252\n",
      "264\n",
      "276\n",
      "288\n",
      "300\n"
     ]
    }
   ],
   "source": [
    "#19\n",
    "numero = 100\n",
    "while numero <= 300:\n",
    "    if numero % 12 != 0:\n",
    "        numero += 1\n",
    "        continue\n",
    "    print(numero)\n",
    "    numero += 1   "
   ]
  },
  {
   "cell_type": "code",
   "execution_count": null,
   "metadata": {},
   "outputs": [
    {
     "name": "stdout",
     "output_type": "stream",
     "text": [
      "102\n"
     ]
    }
   ],
   "source": [
    "#20\n",
    "numero = 100\n",
    "while numero <= 300:\n",
    "    if numero % 3 == 0 and numero % 6 == 0:\n",
    "        print(numero)\n",
    "        break\n",
    "    numero += 1"
   ]
  },
  {
   "cell_type": "code",
   "execution_count": null,
   "metadata": {},
   "outputs": [
    {
     "name": "stdout",
     "output_type": "stream",
     "text": [
      "La letra 'n' aparece en la posición 7\n",
      "La letra 'n' aparece en la posición 21\n",
      "La letra 'n' aparece en la posición 39\n",
      "La letra 'n' aparece en la posición 60\n",
      "La letra 'n' aparece en la posición 67\n"
     ]
    }
   ],
   "source": [
    "#21\n",
    "cadena = \"hola mundo. Esto es una practica del lenguaje de programación Python\"\n",
    "letra =list(cadena)\n",
    "for indice, letra in enumerate(cadena):\n",
    "    if letra == 'n':\n",
    "        print(f\"La letra 'n' aparece en la posición {indice}\")"
   ]
  },
  {
   "cell_type": "code",
   "execution_count": null,
   "metadata": {},
   "outputs": [
    {
     "name": "stdout",
     "output_type": "stream",
     "text": [
      "H\n",
      "o\n",
      "l\n",
      "a\n",
      " \n",
      "M\n",
      "u\n",
      "n\n",
      "d\n",
      "o\n"
     ]
    }
   ],
   "source": [
    "#22\n",
    "cadena = \"Hola Mundo\"\n",
    "lista = list(cadena)\n",
    "for elemento in lista:\n",
    "    print(elemento)"
   ]
  }
 ],
 "metadata": {
  "kernelspec": {
   "display_name": "Python 3",
   "language": "python",
   "name": "python3"
  },
  "language_info": {
   "codemirror_mode": {
    "name": "ipython",
    "version": 3
   },
   "file_extension": ".py",
   "mimetype": "text/x-python",
   "name": "python",
   "nbconvert_exporter": "python",
   "pygments_lexer": "ipython3",
   "version": "3.9.13"
  },
  "orig_nbformat": 4
 },
 "nbformat": 4,
 "nbformat_minor": 2
}

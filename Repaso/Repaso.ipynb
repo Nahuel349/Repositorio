{
 "cells": [
  {
   "cell_type": "code",
   "execution_count": 3,
   "metadata": {},
   "outputs": [
    {
     "name": "stdout",
     "output_type": "stream",
     "text": [
      "Contraseña Incorrecta\n"
     ]
    }
   ],
   "source": [
    "# 1 - Escribir un programa que almacene la cadena de caracteres contraseña en una variable, \n",
    "# pregunte al usuario por la contraseña e imprima por pantalla si la contraseña introducida \n",
    "# por el usuario coincide con la guardada en la variable sin tener en cuenta mayúsculas y minúsculas.\n",
    "\n",
    "clave = \"usuario123\"\n",
    "clave_ingresada = input(\"ingrese su Contraseña\")\n",
    "clave = clave.lower()\n",
    "clave_ingresada = clave_ingresada.lower()\n",
    "if clave == clave_ingresada:\n",
    "    print(\"Bienvenidos al Sistema\")\n",
    "else:\n",
    "    print(\"Contraseña Incorrecta\")"
   ]
  },
  {
   "cell_type": "code",
   "execution_count": 5,
   "metadata": {},
   "outputs": [
    {
     "name": "stdout",
     "output_type": "stream",
     "text": [
      "La tasa a pagar por  6500.0  corresponde un impuesto de  325.0\n"
     ]
    }
   ],
   "source": [
    "# 2 - Los tramos impositivos para la declaración de la renta en un determinado país son los siguientes:\n",
    "# Escribir un programa que pregunte al usuario su renta anual y muestre por pantalla lo que tiene que pagar.\n",
    "#        Renta             Tipo impositivo\n",
    "#      Menos de 10000           5%\n",
    "#  Entre 10000 y 20000          15%\n",
    "#  Entre 20000 y 35000          20%\n",
    "#  Entre 35000 y 60000          30%\n",
    "#  Más de 60000                 45%\n",
    "\n",
    "renta_anual = float(input(\"Ingrese la Renta Anual Obtenida\")) \n",
    "impuesto = 0 \n",
    "if renta_anual < 10000: \n",
    "    impuesto = (renta_anual * 5)/100\n",
    "elif renta_anual >=10000 and renta_anual <20000:\n",
    "    impuesto = (renta_anual *15)/100\n",
    "elif renta_anual >=200000 and renta_anual <35000:\n",
    "    impuesto = (renta_anual *20)/100\n",
    "elif renta_anual >=35000 and renta_anual <60000:\n",
    "    impuesto = (renta_anual *30)/100\n",
    "else:\n",
    "    impuesto = (renta_anual *45)/100\n",
    "print(\"La tasa a pagar por \",renta_anual,\" corresponde un impuesto de \",impuesto)"
   ]
  },
  {
   "cell_type": "code",
   "execution_count": 7,
   "metadata": {},
   "outputs": [
    {
     "name": "stdout",
     "output_type": "stream",
     "text": [
      "el dia de su nacimiento es: 09\n",
      "el mes de su nacimiento es: 05\n",
      "el año de su nacimiento es: 1978\n"
     ]
    }
   ],
   "source": [
    "# 3 - Escribir un programa que pregunte al usuario la fecha de su nacimiento en formato dd/mm/aaaa \n",
    "# y muestra por pantalla, el día, el mes y el año.\n",
    "\n",
    "fecha = input(\"ingrese su Fecha de Nacimiento.... Usar Formato DD/MM/AAAA\")\n",
    "dia = fecha[:2] # me toma solo los 2 primeros datos ingresados\n",
    "mes = fecha[3:5] # me toma de la posicion 3 al 5 \n",
    "ano = fecha[6:] # me toma de la pocicion 6 al final\n",
    "print(f\"el dia de su nacimiento es: {dia}\")\n",
    "print(f\"el mes de su nacimiento es: {mes}\")\n",
    "print(f\"el año de su nacimiento es: {ano}\")"
   ]
  },
  {
   "cell_type": "code",
   "execution_count": null,
   "metadata": {},
   "outputs": [],
   "source": [
    "# 4 - Escribir un programa que muestre por pantalla la tabla de multiplicar del 1 al 10.\n",
    "t = 1\n",
    "n = 1\n",
    "resultado = 0\n",
    "while t <= 10:\n",
    "    print(f\"La tabla de multimplicar del {t} \")\n",
    "    for n in range(11): # le puse 11 por que con 10 el rango va hasta el 9 y no toma\n",
    "        resultado = t * n\n",
    "        print(f\"{t} x {n} = {resultado}\")\n",
    "    t += 1"
   ]
  },
  {
   "cell_type": "code",
   "execution_count": null,
   "metadata": {},
   "outputs": [],
   "source": [
    "# 4 (B) - Escribir un programa que muestre por pantalla la tabla de multiplicar del 1 al 10.\n",
    "# Prueba Avanzada\n",
    "\n",
    "for i in range(1, 3):\n",
    "    print(f\"Tabla de multiplicar del {i}:\")\n",
    "    for j in range(1, 11):\n",
    "        resultado = i * j\n",
    "        print(f\"{i} x {j} = {resultado}\")\n",
    "    print()\n"
   ]
  }
 ],
 "metadata": {
  "kernelspec": {
   "display_name": "Python 3",
   "language": "python",
   "name": "python3"
  },
  "language_info": {
   "codemirror_mode": {
    "name": "ipython",
    "version": 3
   },
   "file_extension": ".py",
   "mimetype": "text/x-python",
   "name": "python",
   "nbconvert_exporter": "python",
   "pygments_lexer": "ipython3",
   "version": "3.9.13"
  },
  "orig_nbformat": 4
 },
 "nbformat": 4,
 "nbformat_minor": 2
}

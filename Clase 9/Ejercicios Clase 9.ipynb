{
 "cells": [
  {
   "cell_type": "code",
   "execution_count": null,
   "metadata": {},
   "outputs": [],
   "source": [
    "# 1 - Crea la clase base \"Persona\" con los siguientes atributos: nombre - edad - \n",
    "# Incluir un constructor que inicialice los atributos"
   ]
  },
  {
   "cell_type": "code",
   "execution_count": null,
   "metadata": {},
   "outputs": [],
   "source": [
    "# 2 - Crea la clase base \"Vehículo\" con los siguientes atributos: marca - modelo\n",
    "# Incluir un constructor que inicialice los atributos\n"
   ]
  },
  {
   "cell_type": "code",
   "execution_count": null,
   "metadata": {},
   "outputs": [],
   "source": [
    "# 3 - Crea la clase base \"Animal\" con los siguientes atributos: nombre - edad - especie\n",
    "# Incluir un constructor que inicialice los atributos"
   ]
  },
  {
   "cell_type": "code",
   "execution_count": null,
   "metadata": {},
   "outputs": [],
   "source": [
    "# 4 - Crea una clase \"Estudiante\" que herede de \"Persona\" y tenga un atributo adicional\n",
    "# \"escuela\". Agrega métodos para imprimir la información del estudiante."
   ]
  },
  {
   "cell_type": "code",
   "execution_count": null,
   "metadata": {},
   "outputs": [],
   "source": [
    "# 5 - Crea una clase \"Empleado\" que herede de \"Persona\" y tenga atributos adicionales como\n",
    "#  \"empresa\" y \"puesto\". Agrega métodos para imprimir la información del empleado."
   ]
  },
  {
   "cell_type": "code",
   "execution_count": null,
   "metadata": {},
   "outputs": [],
   "source": [
    "# 6 - Crea una clase \"Coche\" que herede de \"Vehículo\" y tenga atributos adicionales como \n",
    "# \"color\" y \"velocidad\". Agrega métodos para imprimir la información del coche.\n"
   ]
  },
  {
   "cell_type": "code",
   "execution_count": null,
   "metadata": {},
   "outputs": [],
   "source": [
    "# 7 - Crea una clase \"Perro\" que herede de \"Animal\" y tenga un atributo adicional\n",
    "# \"raza\". Agrega métodos para imprimir la información del gato."
   ]
  },
  {
   "cell_type": "code",
   "execution_count": null,
   "metadata": {},
   "outputs": [],
   "source": [
    "# 8 - Crea una clase \"EstudianteUniversitario\" que herede de \"Estudiante\" y tenga atributos adicionales como\n",
    "#  \"carrera\" y \"semestre\". Agrega métodos para imprimir la información del estudiante universitario."
   ]
  },
  {
   "cell_type": "code",
   "execution_count": null,
   "metadata": {},
   "outputs": [],
   "source": [
    "# 9 - Crea una clase \"Camioneta\" que herede de \"Vehículo\" y tenga un atributo adicional \n",
    "# \"capacidad_carga\". Agrega métodos para imprimir la información de la camioneta."
   ]
  },
  {
   "cell_type": "code",
   "execution_count": null,
   "metadata": {},
   "outputs": [],
   "source": [
    "# 10 - Crea una clase \"Profesor\" que herede de \"Empleado\" y tenga atributos adicionales como\n",
    "# \"materia\" y \"experiencia\". Agrega métodos para imprimir la información del profesor."
   ]
  },
  {
   "cell_type": "code",
   "execution_count": null,
   "metadata": {},
   "outputs": [],
   "source": [
    "# 11 - Crea una clase \"Motocicleta\" que herede de \"Vehículo\" y tenga atributos adicionales como \n",
    "# \"cilindrada\" y \"marca\". Agrega métodos para imprimir la información de la motocicleta."
   ]
  },
  {
   "cell_type": "code",
   "execution_count": null,
   "metadata": {},
   "outputs": [],
   "source": [
    "# 12 - Crea una clase \"Ave\" que herede de \"Animal\" y tenga atributos adicionales como\n",
    "# \"especie\" y \"habitat\". Agrega métodos para imprimir la información del ave."
   ]
  },
  {
   "cell_type": "code",
   "execution_count": null,
   "metadata": {},
   "outputs": [],
   "source": [
    "# 13 - Crea una clase \"Cliente\" que herede de \"Persona\" y tenga atributos adicionales como \n",
    "# \"direccion\" y \"telefono\". Agrega métodos para imprimir la información del cliente."
   ]
  },
  {
   "cell_type": "code",
   "execution_count": null,
   "metadata": {},
   "outputs": [],
   "source": [
    "# 14 - Crea una clase \"Bicicleta\" que herede de \"Vehículo\" y tenga atributos adicionales como \"tipo"
   ]
  }
 ],
 "metadata": {
  "kernelspec": {
   "display_name": "Python 3",
   "language": "python",
   "name": "python3"
  },
  "language_info": {
   "name": "python",
   "version": "3.9.13"
  },
  "orig_nbformat": 4
 },
 "nbformat": 4,
 "nbformat_minor": 2
}

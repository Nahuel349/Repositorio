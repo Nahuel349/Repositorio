{
 "cells": [
  {
   "cell_type": "code",
   "execution_count": null,
   "metadata": {},
   "outputs": [],
   "source": [
    "# Ejercicio N° 1\n",
    "# Desarrollar un programa para gestionar una lista de tareas pendientes. \n",
    "# Implementar una función que tome dos listas de tareas y las combine en una sola lista,\n",
    "# Implementar una función llamada combinar_tareas() que reciba dos listas de tareas como parámetros. \n",
    "# Retornar la lista combinada resultante."
   ]
  },
  {
   "cell_type": "code",
   "execution_count": 1,
   "metadata": {},
   "outputs": [
    {
     "name": "stdout",
     "output_type": "stream",
     "text": [
      "['Preparar apuntes', 'Buscar Material', 'Sacar las Hojas', 'Prender la Computadora', 'Hacer los ejercicio']\n"
     ]
    }
   ],
   "source": [
    "# Ejercicio N° 1\n",
    "\n",
    "def combinar_tareas(lista1, lista2): # creo la Función\n",
    "    lista_combinada = lista1 + lista2\n",
    "    return lista_combinada\n",
    "\n",
    "# Mis Listas \n",
    "tareas1 = [\"Preparar apuntes\", \"Buscar Material\", \"Sacar las Hojas\"]\n",
    "tareas2 = [\"Prender la Computadora\", \"Hacer los ejercicio\"]\n",
    "\n",
    "tareas_combinadas = combinar_tareas(tareas1, tareas2)\n",
    "print(tareas_combinadas)\n"
   ]
  },
  {
   "cell_type": "code",
   "execution_count": null,
   "metadata": {},
   "outputs": [],
   "source": [
    "# Ejercicio N° 2\n",
    "# Programa para gestionar una lista de tareas pendientes. Implementar un programa que utilice diccionarios \n",
    "# para almacenar y manipular la información de las tareas.\n",
    "# La solución debe cumplir los siguientes requisitos:\n",
    "# Crea un diccionario que almacenará la información de las tareas pendientes. \n",
    "# Cada clave del diccionario representará el nombre de una tarea y cada valor será un booleano que\n",
    "# indicará si la tarea está completada o no.\n",
    "#   * Implementar una función que reciba como parámetro el nombre de una tarea y la agregue \n",
    "#     al diccionario tareas con un valor inicial de False para indicar que la tarea está pendiente.\n",
    "#   * Implementar una función que reciba como parámetro el nombre de una tarea y actualice \n",
    "#     el valor correspondiente en el diccionario tareas a True para indicar que la tarea está completada.\n",
    "#   * Implementa una función que reciba como parámetro el nombre de una tarea y elimine \n",
    "#     dicha tarea del diccionario tareas.\n",
    "#   * Verificar el correcto funcionamiento, agregando, actualizando y eliminando al menos una tarea."
   ]
  },
  {
   "cell_type": "code",
   "execution_count": null,
   "metadata": {},
   "outputs": [],
   "source": [
    "# Ejercicio N° 2\n",
    "\n",
    "tareas = {}  # Diccionario para almacenar las tareas pendientes\n",
    "\n",
    "def agregar_tarea(nombre_tarea):\n",
    "    tareas[nombre_tarea] = False  # Agrego tarea al diccionario con valor inicial de False\n",
    "\n",
    "def completar_tarea(nombre_tarea):\n",
    "    if nombre_tarea in tareas:\n",
    "        tareas[nombre_tarea] = True  # Actualizo el valor de la tarea a True si existe en el diccionario\n",
    "    else:\n",
    "        print(\"La tarea no existe\")\n",
    "\n",
    "def eliminar_tarea(nombre_tarea):\n",
    "    if nombre_tarea in tareas:\n",
    "        del tareas[nombre_tarea]  # Eliminar la tarea del diccionario si existe\n",
    "    else:\n",
    "        print(\"La tarea no existe\")\n",
    "\n",
    "# Ejemplo \n",
    "agregar_tarea(\"Encender la Computadora\")\n",
    "agregar_tarea(\"Estudiar para el examen\")\n",
    "print(tareas)  \n",
    "\n",
    "completar_tarea(\"Estudiar para el examen\")\n",
    "print(tareas)  \n",
    "eliminar_tarea(\"Estudiar para el examen\")\n",
    "print(tareas)  \n"
   ]
  },
  {
   "cell_type": "code",
   "execution_count": null,
   "metadata": {},
   "outputs": [],
   "source": [
    "# Ejercicio N° 3\n",
    "# Imagina que estás desarrollando un programa para una máquina expendedora de bebidas.\n",
    "# Implementar un programa que solicite al usuario seleccionar una opción y muestre el precio \n",
    "# correspondiente de la bebida seleccionada.\n",
    "# Implementa una solución que cumpla con los siguientes requisitos:\n",
    "# Muestra al usuario un menú con las siguientes opciones de bebidas:\n",
    "#   • Opción 1: Coca-Cola - Precio: $2.50\n",
    "#   • Opción 2: Sprite - Precio: $2.00\n",
    "#   • Opción 3: Fanta - Precio: $1.75 \n",
    "# Solicita al usuario que seleccione una opción ingresando el número correspondiente.\n",
    "# Verificar la opción seleccionada por el usuario y mostrar por pantalla el precio correspondiente.\n",
    "# Si el usuario selecciona una opción inválida, mostrar un mensaje de error."
   ]
  },
  {
   "cell_type": "code",
   "execution_count": 2,
   "metadata": {},
   "outputs": [
    {
     "name": "stdout",
     "output_type": "stream",
     "text": [
      "Menú de bebidas:\n",
      "Opción 1: Coca-Cola - Precio: $2.50\n",
      "Opción 2: Sprite - Precio: $2.00\n",
      "Opción 3: Fanta - Precio: $1.75\n"
     ]
    }
   ],
   "source": [
    "# Ejercicio N° 3\n",
    "\n",
    "def mostrar_menu(): # Funcion Menu\n",
    "    print(\"Menú de bebidas:\")\n",
    "    print(\"Opción 1: Coca-Cola - Precio: $2.50\")\n",
    "    print(\"Opción 2: Sprite - Precio: $2.00\")\n",
    "    print(\"Opción 3: Fanta - Precio: $1.75\")\n",
    "\n",
    "def obtener_precio(opcion): # funcion para ver que elijo\n",
    "    if opcion == 1:\n",
    "        return 2.50\n",
    "    elif opcion == 2:\n",
    "        return 2.00\n",
    "    elif opcion == 3:\n",
    "        return 1.75\n",
    "    else:\n",
    "        return None\n",
    "\n",
    "def opcion_menu():\n",
    "    mostrar_menu()\n",
    "    opcion = int(input(\"Seleccione una opción: \"))\n",
    "    \n",
    "    precio = obtener_precio(opcion)\n",
    "    if precio is not None:\n",
    "        print(\"El precio de la bebida seleccionada es: $\", precio)\n",
    "    else:\n",
    "        print(\"ERROR - Opción inválida.\")\n",
    "\n",
    "mostrar_menu()"
   ]
  },
  {
   "cell_type": "code",
   "execution_count": null,
   "metadata": {},
   "outputs": [],
   "source": [
    "# Ejercicio N° 4\n",
    "# Imagina que estás creando un programa para una biblioteca que gestiona la información de los libros \n",
    "# que tiene disponibles. \n",
    "# Tu tarea es implementar un sistema de gestión de libros que permita a los usuarios realizar consultas \n",
    "# y obtener información sobre los libros.\n",
    "# Utilizando los conceptos de Programación Orientada a Objetos, implementa una solución que cumpla \n",
    "# con los siguientes requisitos:\n",
    "#   1. Crea una clase llamada Libro que tenga los siguientes atributos:\n",
    "#       titulo: una cadena que representa el título del libro.\n",
    "#       autor: una cadena que indica el autor del libro.\n",
    "#       precio: un número decimal que indica el precio del libro.\n",
    "#       disponible: un valor booleano que indica si el libro está disponible para préstamo.\n",
    "#   2. La clase Libro debe tener los siguientes métodos:\n",
    "#       informacion(): muestra por pantalla la información del libro, incluyendo el\n",
    "#       título, autor y precio.\n",
    "#       prestar(): cambia el estado del libro a no disponible.\n",
    "#       devolver(): cambia el estado del libro a disponible.\n",
    "#   3. Crea una clase derivada llamada LibroFisico que herede de la clase Libro. \n",
    "#      La clase LibroFisico tiene un atributo adicional:\n",
    "#       ubicacion: una cadena que indica la ubicación física del libro en la biblioteca.\n",
    "#   4. Sobrescribe el método informacion() en la clase LibroFisico para incluir la ubicación física \n",
    "#      del libro al mostrar la información."
   ]
  },
  {
   "cell_type": "code",
   "execution_count": 15,
   "metadata": {},
   "outputs": [],
   "source": [
    "# Ejercicio N° 4\n",
    "\n",
    "# Clase Libro\n",
    "class Libro: \n",
    "    def __init__(self, titulo, autor, precio, disponible): # Atributos\n",
    "        self.titulo = titulo\n",
    "        self.autor = autor\n",
    "        self.precio = precio\n",
    "        self.disponible = disponible\n",
    "\n",
    "    def informacion(self): # metodo para mostrar la Informacion del libro \n",
    "        print(\"Título:\", self.titulo)\n",
    "        print(\"Autor:\", self.autor)\n",
    "        print(\"Precio:\", self.precio)\n",
    "\n",
    "    def prestar(self): # Metodo para prestar cambia el estado\n",
    "        if self.disponible:\n",
    "            self.disponible = False\n",
    "            print(\"El libro se ha prestado.\")\n",
    "        else:\n",
    "            print(\"El libro no está disponible.\")\n",
    "\n",
    "    def devolver(self): # metodo para devolver\n",
    "        if not self.disponible:\n",
    "            self.disponible = True\n",
    "            print(\"El libro se ha devuelto.\")\n",
    "        else:\n",
    "            print(\"El libro ya está disponible.\")\n",
    "\n",
    "\n",
    "class LibroFisico(Libro): #clase libro fisico que me toma atributos de la clase libros y agrega ubicacion\n",
    "    def __init__(self, titulo, autor, precio, disponible, ubicacion):\n",
    "        super().__init__(titulo, autor, precio,disponible)\n",
    "        self.ubicacion = ubicacion\n",
    "\n",
    "    def informacion(self): # agrega Ubicacion\n",
    "        super().informacion()\n",
    "        print(\"Ubicación:\", self.ubicacion)\n"
   ]
  },
  {
   "cell_type": "code",
   "execution_count": 17,
   "metadata": {},
   "outputs": [
    {
     "name": "stdout",
     "output_type": "stream",
     "text": [
      "Título: El Principito\n",
      "Autor: M. Alejandra\n",
      "Precio: 1155.99\n",
      "El libro se ha prestado.\n",
      "Título: El Principito\n",
      "Autor: M. Alejandra\n",
      "Precio: 1155.99\n",
      "Ubicación: Pasillo 2, Estantería 1B\n",
      "El libro ya está disponible.\n"
     ]
    }
   ],
   "source": [
    "# Ejercicio N° 4 - Ejemplo\n",
    "\n",
    "libro1 = Libro(\"El Principito\", \"M. Alejandra\", 1155.99,True)\n",
    "libro1.informacion()  # muestra la información básica del libro\n",
    "libro1.prestar()  # cambia el estado del libro a no disponible\n",
    "\n",
    "\n",
    "libro2 = LibroFisico(\"El Principito\", \"M. Alejandra\", 1155.99, True, \"Pasillo 2, Estantería 1B\")\n",
    "libro2.informacion()  # muestra la información actualizada del libro físico\n",
    "libro2.devolver()  # cambia el estado del libro a disponible\n"
   ]
  }
 ],
 "metadata": {
  "kernelspec": {
   "display_name": "Python 3",
   "language": "python",
   "name": "python3"
  },
  "language_info": {
   "codemirror_mode": {
    "name": "ipython",
    "version": 3
   },
   "file_extension": ".py",
   "mimetype": "text/x-python",
   "name": "python",
   "nbconvert_exporter": "python",
   "pygments_lexer": "ipython3",
   "version": "3.11.4"
  },
  "orig_nbformat": 4
 },
 "nbformat": 4,
 "nbformat_minor": 2
}

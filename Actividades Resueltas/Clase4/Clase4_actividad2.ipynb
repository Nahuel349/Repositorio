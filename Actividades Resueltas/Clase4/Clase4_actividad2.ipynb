{
 "cells": [
  {
   "attachments": {},
   "cell_type": "markdown",
   "metadata": {},
   "source": [
    "1. Crear un diccionario que contenga nombre, edad y carrera de un alumno y mostrar el diccionario completo."
   ]
  },
  {
   "cell_type": "code",
   "execution_count": 2,
   "metadata": {},
   "outputs": [
    {
     "name": "stdout",
     "output_type": "stream",
     "text": [
      "El valor de alumnos es \n",
      " {'nombre': 'Gonzalo', 'edad': 44, 'carrera': 'Tecnicatura en Ciencia de datos e Inteligencia Artificial'}\n"
     ]
    }
   ],
   "source": [
    "alumnos ={\"nombre\":\"Gonzalo\",\n",
    "          \"edad\":44,\n",
    "          \"carrera\":\"Tecnicatura en Ciencia de datos e Inteligencia Artificial\"}\n",
    "print(f\"El valor de alumnos es \\n {alumnos}\")"
   ]
  },
  {
   "attachments": {},
   "cell_type": "markdown",
   "metadata": {},
   "source": [
    "2. Utilizar el método get para mostrar el valor de la clave nombre."
   ]
  },
  {
   "cell_type": "code",
   "execution_count": 6,
   "metadata": {},
   "outputs": [
    {
     "data": {
      "text/plain": [
       "'Gonzalo'"
      ]
     },
     "execution_count": 6,
     "metadata": {},
     "output_type": "execute_result"
    }
   ],
   "source": [
    "alumnos.get(\"nombre\")"
   ]
  },
  {
   "attachments": {},
   "cell_type": "markdown",
   "metadata": {},
   "source": [
    "3. Cambiar la edad del alumno y mostrar el diccionario completo."
   ]
  },
  {
   "cell_type": "code",
   "execution_count": 7,
   "metadata": {},
   "outputs": [
    {
     "name": "stdout",
     "output_type": "stream",
     "text": [
      "{'nombre': 'Gonzalo', 'edad': 45, 'carrera': 'Tecnicatura en Ciencia de datos e Inteligencia Artificial'}\n"
     ]
    }
   ],
   "source": [
    "alumnos[\"edad\"]=45\n",
    "print(alumnos)"
   ]
  },
  {
   "attachments": {},
   "cell_type": "markdown",
   "metadata": {},
   "source": [
    "4. Agrear un par clave valor que contenga el sexo del alumno. Mostrar\n",
    "el diccionario completo."
   ]
  },
  {
   "cell_type": "code",
   "execution_count": 9,
   "metadata": {},
   "outputs": [
    {
     "name": "stdout",
     "output_type": "stream",
     "text": [
      "{'nombre': 'Gonzalo', 'edad': 45, 'carrera': 'Tecnicatura en Ciencia de datos e Inteligencia Artificial', 'sexo': 'Masculino'}\n"
     ]
    }
   ],
   "source": [
    "alumnnos_upd={\"sexo\":\"Masculino\"}\n",
    "alumnos.update(alumnnos_upd)\n",
    "print(alumnos)"
   ]
  },
  {
   "attachments": {},
   "cell_type": "markdown",
   "metadata": {},
   "source": [
    "5. Usar el método pop() para remover la edad del alumno. Mostrar el diccionario completo."
   ]
  },
  {
   "cell_type": "code",
   "execution_count": 10,
   "metadata": {},
   "outputs": [
    {
     "name": "stdout",
     "output_type": "stream",
     "text": [
      "{'nombre': 'Gonzalo', 'carrera': 'Tecnicatura en Ciencia de datos e Inteligencia Artificial', 'sexo': 'Masculino'}\n"
     ]
    }
   ],
   "source": [
    "alumnos.pop(\"edad\")\n",
    "print(alumnos)"
   ]
  },
  {
   "attachments": {},
   "cell_type": "markdown",
   "metadata": {},
   "source": [
    "6. Crear un diccionario que contenga las notas de un alumno en tres materias. Las materias son programación II, ciencia de datos, programación I."
   ]
  },
  {
   "cell_type": "code",
   "execution_count": 12,
   "metadata": {},
   "outputs": [],
   "source": [
    "notas ={\"programacion II\":9,\n",
    "           \"Ciencia de datos\":8,\n",
    "           \"programacion I\":10\n",
    "           }"
   ]
  },
  {
   "attachments": {},
   "cell_type": "markdown",
   "metadata": {},
   "source": [
    "7. Mostrar todos los ítems del diccionario de notas."
   ]
  },
  {
   "cell_type": "code",
   "execution_count": 13,
   "metadata": {},
   "outputs": [
    {
     "data": {
      "text/plain": [
       "dict_items([('programacion II', 9), ('Ciencia de datos', 8), ('programacion I', 10)])"
      ]
     },
     "execution_count": 13,
     "metadata": {},
     "output_type": "execute_result"
    }
   ],
   "source": [
    "notas.items()"
   ]
  },
  {
   "attachments": {},
   "cell_type": "markdown",
   "metadata": {},
   "source": [
    "8. Crear un nuevo diccionario que sea una copia del diccionario de notas del alumno. Mostrar los datos del nuevo diccionario."
   ]
  },
  {
   "cell_type": "code",
   "execution_count": 15,
   "metadata": {},
   "outputs": [
    {
     "name": "stdout",
     "output_type": "stream",
     "text": [
      "{'programacion II': 9, 'Ciencia de datos': 8, 'programacion I': 10}\n"
     ]
    }
   ],
   "source": [
    "notas2 =notas.copy()\n",
    "print(notas2)"
   ]
  },
  {
   "attachments": {},
   "cell_type": "markdown",
   "metadata": {},
   "source": [
    "9. Mostrar los valores del diccionario de notas."
   ]
  },
  {
   "cell_type": "code",
   "execution_count": 16,
   "metadata": {},
   "outputs": [
    {
     "data": {
      "text/plain": [
       "dict_values([9, 8, 10])"
      ]
     },
     "execution_count": 16,
     "metadata": {},
     "output_type": "execute_result"
    }
   ],
   "source": [
    "notas.values()"
   ]
  },
  {
   "attachments": {},
   "cell_type": "markdown",
   "metadata": {},
   "source": [
    "10.Mostrar la longitud del diccionario de notas."
   ]
  },
  {
   "cell_type": "code",
   "execution_count": 17,
   "metadata": {},
   "outputs": [
    {
     "data": {
      "text/plain": [
       "3"
      ]
     },
     "execution_count": 17,
     "metadata": {},
     "output_type": "execute_result"
    }
   ],
   "source": [
    "len(notas)"
   ]
  }
 ],
 "metadata": {
  "kernelspec": {
   "display_name": "Python 3",
   "language": "python",
   "name": "python3"
  },
  "language_info": {
   "codemirror_mode": {
    "name": "ipython",
    "version": 3
   },
   "file_extension": ".py",
   "mimetype": "text/x-python",
   "name": "python",
   "nbconvert_exporter": "python",
   "pygments_lexer": "ipython3",
   "version": "3.11.4"
  },
  "orig_nbformat": 4
 },
 "nbformat": 4,
 "nbformat_minor": 2
}

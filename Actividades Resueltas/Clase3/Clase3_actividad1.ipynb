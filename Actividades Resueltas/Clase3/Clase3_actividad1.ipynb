{
 "cells": [
  {
   "attachments": {},
   "cell_type": "markdown",
   "metadata": {},
   "source": [
    "1. Ingresar dos números enteros y luego imprimir la suma de ambos"
   ]
  },
  {
   "cell_type": "code",
   "execution_count": 1,
   "metadata": {},
   "outputs": [
    {
     "name": "stdout",
     "output_type": "stream",
     "text": [
      "La suma de 15 + 25 es igual a 40\n"
     ]
    }
   ],
   "source": [
    "num1 =int(input(\"ingrese un numero\"))\n",
    "num2 =int(input(\"ingrese otro numero\"))\n",
    "print(f\"La suma de {num1} + {num2} es igual a {num1 + num2}\")"
   ]
  },
  {
   "attachments": {},
   "cell_type": "markdown",
   "metadata": {},
   "source": [
    "2. Ingresar dos números enteros y luego imprimir la resta de ambos"
   ]
  },
  {
   "cell_type": "code",
   "execution_count": 2,
   "metadata": {},
   "outputs": [
    {
     "name": "stdout",
     "output_type": "stream",
     "text": [
      "La resta de 15 - 5 es igual a 10\n"
     ]
    }
   ],
   "source": [
    "num1 =int(input(\"ingrese un numero\"))\n",
    "num2 =int(input(\"ingrese otro numero\"))\n",
    "print(f\"La resta de {num1} - {num2} es igual a {num1 - num2}\")"
   ]
  },
  {
   "attachments": {},
   "cell_type": "markdown",
   "metadata": {},
   "source": [
    "3. Ingresar dos números enteros y luego imprimir la multiplicación de\n",
    "ambos.\n"
   ]
  },
  {
   "cell_type": "code",
   "execution_count": 3,
   "metadata": {},
   "outputs": [
    {
     "name": "stdout",
     "output_type": "stream",
     "text": [
      "La multiplicación de 5 x 10 es igual a 50\n"
     ]
    }
   ],
   "source": [
    "num1 =int(input(\"ingrese un numero\"))\n",
    "num2 =int(input(\"ingrese otro numero\"))\n",
    "print(f\"La multiplicación de {num1} x {num2} es igual a {num1 * num2}\")"
   ]
  },
  {
   "attachments": {},
   "cell_type": "markdown",
   "metadata": {},
   "source": [
    "4. Ingresar dos números enteros y luego imprimir la división de ambos.\n"
   ]
  },
  {
   "cell_type": "code",
   "execution_count": 4,
   "metadata": {},
   "outputs": [
    {
     "name": "stdout",
     "output_type": "stream",
     "text": [
      "La división de 15 / 5 es igual a 3.0\n"
     ]
    }
   ],
   "source": [
    "num1 =int(input(\"ingrese un numero\"))\n",
    "num2 =int(input(\"ingrese otro numero\"))\n",
    "print(f\"La división de {num1} / {num2} es igual a {num1 / num2}\")"
   ]
  },
  {
   "attachments": {},
   "cell_type": "markdown",
   "metadata": {},
   "source": [
    "5. Ingresar dos números enteros y luego imprimir la división entera de\n",
    "ambos"
   ]
  },
  {
   "cell_type": "code",
   "execution_count": 6,
   "metadata": {},
   "outputs": [
    {
     "name": "stdout",
     "output_type": "stream",
     "text": [
      "La división entera de 15 // 5 es igual a 3\n"
     ]
    }
   ],
   "source": [
    "num1 =int(input(\"ingrese un numero\"))\n",
    "num2 =int(input(\"ingrese otro numero\"))\n",
    "print(f\"La división entera de {num1} // {num2} es igual a {num1 // num2}\")"
   ]
  },
  {
   "attachments": {},
   "cell_type": "markdown",
   "metadata": {},
   "source": [
    "6. Ingresar dos números enteros y luego imprimir el resultado de su\n",
    "módulo.\n"
   ]
  },
  {
   "cell_type": "code",
   "execution_count": 8,
   "metadata": {},
   "outputs": [
    {
     "name": "stdout",
     "output_type": "stream",
     "text": [
      "El resto de la división entre 15 / 6 es igual a 3\n"
     ]
    }
   ],
   "source": [
    "num1 =int(input(\"ingrese un numero\"))\n",
    "num2 =int(input(\"ingrese otro numero\"))\n",
    "print(f\"El resto de la división entre {num1} / {num2} es igual a {num1 % num2}\")"
   ]
  }
 ],
 "metadata": {
  "kernelspec": {
   "display_name": "Python 3",
   "language": "python",
   "name": "python3"
  },
  "language_info": {
   "codemirror_mode": {
    "name": "ipython",
    "version": 3
   },
   "file_extension": ".py",
   "mimetype": "text/x-python",
   "name": "python",
   "nbconvert_exporter": "python",
   "pygments_lexer": "ipython3",
   "version": "3.9.13"
  },
  "orig_nbformat": 4
 },
 "nbformat": 4,
 "nbformat_minor": 2
}

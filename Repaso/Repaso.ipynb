{
 "cells": [
  {
   "cell_type": "code",
   "execution_count": 6,
   "metadata": {},
   "outputs": [
    {
     "name": "stdout",
     "output_type": "stream",
     "text": [
      "Contraseña Incorrecta\n"
     ]
    }
   ],
   "source": [
    "# 1 - Escribir un programa que almacene la cadena de caracteres contraseña en una variable, \n",
    "# pregunte al usuario por la contraseña e imprima por pantalla si la contraseña introducida \n",
    "# por el usuario coincide con la guardada en la variable sin tener en cuenta mayúsculas y minúsculas.\n",
    "\n",
    "clave = \"usuario123\"\n",
    "clave_ingresada = input(\"ingrese su Contraseña\")\n",
    "clave = clave.lower()\n",
    "clave_ingresada = clave_ingresada.lower()\n",
    "if clave == clave_ingresada:\n",
    "    print(\"Bienvenidos al Sistema\")\n",
    "else:\n",
    "    print(\"Contraseña Incorrecta\")"
   ]
  },
  {
   "cell_type": "code",
   "execution_count": 7,
   "metadata": {},
   "outputs": [
    {
     "name": "stdout",
     "output_type": "stream",
     "text": [
      "La tasa a pagar por  12.0  corresponde un impuesto de  0.6\n"
     ]
    }
   ],
   "source": [
    "# 2 - Los tramos impositivos para la declaración de la renta en un determinado país son los siguientes:\n",
    "# Escribir un programa que pregunte al usuario su renta anual y muestre por pantalla lo que tiene que pagar.\n",
    "#        Renta             Tipo impositivo\n",
    "#      Menos de 10000           5%\n",
    "#  Entre 10000 y 20000          15%\n",
    "#  Entre 20000 y 35000          20%\n",
    "#  Entre 35000 y 60000          30%\n",
    "#  Más de 60000                 45%\n",
    "\n",
    "renta_anual = float(input(\"Ingrese la Renta Anual Obtenida\")) \n",
    "impuesto = 0 \n",
    "if renta_anual < 10000: \n",
    "    impuesto = (renta_anual * 5)/100\n",
    "elif renta_anual >=10000 and renta_anual <20000:\n",
    "    impuesto = (renta_anual *15)/100\n",
    "elif renta_anual >=200000 and renta_anual <35000:\n",
    "    impuesto = (renta_anual *20)/100\n",
    "elif renta_anual >=35000 and renta_anual <60000:\n",
    "    impuesto = (renta_anual *30)/100\n",
    "else:\n",
    "    impuesto = (renta_anual *45)/100\n",
    "print(\"La tasa a pagar por \",renta_anual,\" corresponde un impuesto de \",impuesto)"
   ]
  },
  {
   "cell_type": "code",
   "execution_count": 8,
   "metadata": {},
   "outputs": [
    {
     "name": "stdout",
     "output_type": "stream",
     "text": [
      "el dia de su nacimiento es: 12\n",
      "el mes de su nacimiento es: 23\n",
      "el año de su nacimiento es: 1298\n"
     ]
    }
   ],
   "source": [
    "# 3 - Escribir un programa que pregunte al usuario la fecha de su nacimiento en formato dd/mm/aaaa \n",
    "# y muestra por pantalla, el día, el mes y el año.\n",
    "\n",
    "fecha = input(\"ingrese su Fecha de Nacimiento.... Usar Formato DD/MM/AAAA\")\n",
    "dia = fecha[:2] # me toma solo los 2 primeros datos ingresados\n",
    "mes = fecha[3:5] # me toma de la posicion 3 al 5 \n",
    "ano = fecha[6:] # me toma de la pocicion 6 al final\n",
    "print(f\"el dia de su nacimiento es: {dia}\")\n",
    "print(f\"el mes de su nacimiento es: {mes}\")\n",
    "print(f\"el año de su nacimiento es: {ano}\")"
   ]
  },
  {
   "cell_type": "code",
   "execution_count": 9,
   "metadata": {},
   "outputs": [
    {
     "name": "stdout",
     "output_type": "stream",
     "text": [
      "La tabla de multimplicar del 1 \n",
      "1 x 0 = 0\n",
      "1 x 1 = 1\n",
      "1 x 2 = 2\n",
      "1 x 3 = 3\n",
      "1 x 4 = 4\n",
      "1 x 5 = 5\n",
      "1 x 6 = 6\n",
      "1 x 7 = 7\n",
      "1 x 8 = 8\n",
      "1 x 9 = 9\n",
      "1 x 10 = 10\n",
      "La tabla de multimplicar del 2 \n",
      "2 x 0 = 0\n",
      "2 x 1 = 2\n",
      "2 x 2 = 4\n",
      "2 x 3 = 6\n",
      "2 x 4 = 8\n",
      "2 x 5 = 10\n",
      "2 x 6 = 12\n",
      "2 x 7 = 14\n",
      "2 x 8 = 16\n",
      "2 x 9 = 18\n",
      "2 x 10 = 20\n",
      "La tabla de multimplicar del 3 \n",
      "3 x 0 = 0\n",
      "3 x 1 = 3\n",
      "3 x 2 = 6\n",
      "3 x 3 = 9\n",
      "3 x 4 = 12\n",
      "3 x 5 = 15\n",
      "3 x 6 = 18\n",
      "3 x 7 = 21\n",
      "3 x 8 = 24\n",
      "3 x 9 = 27\n",
      "3 x 10 = 30\n",
      "La tabla de multimplicar del 4 \n",
      "4 x 0 = 0\n",
      "4 x 1 = 4\n",
      "4 x 2 = 8\n",
      "4 x 3 = 12\n",
      "4 x 4 = 16\n",
      "4 x 5 = 20\n",
      "4 x 6 = 24\n",
      "4 x 7 = 28\n",
      "4 x 8 = 32\n",
      "4 x 9 = 36\n",
      "4 x 10 = 40\n",
      "La tabla de multimplicar del 5 \n",
      "5 x 0 = 0\n",
      "5 x 1 = 5\n",
      "5 x 2 = 10\n",
      "5 x 3 = 15\n",
      "5 x 4 = 20\n",
      "5 x 5 = 25\n",
      "5 x 6 = 30\n",
      "5 x 7 = 35\n",
      "5 x 8 = 40\n",
      "5 x 9 = 45\n",
      "5 x 10 = 50\n",
      "La tabla de multimplicar del 6 \n",
      "6 x 0 = 0\n",
      "6 x 1 = 6\n",
      "6 x 2 = 12\n",
      "6 x 3 = 18\n",
      "6 x 4 = 24\n",
      "6 x 5 = 30\n",
      "6 x 6 = 36\n",
      "6 x 7 = 42\n",
      "6 x 8 = 48\n",
      "6 x 9 = 54\n",
      "6 x 10 = 60\n",
      "La tabla de multimplicar del 7 \n",
      "7 x 0 = 0\n",
      "7 x 1 = 7\n",
      "7 x 2 = 14\n",
      "7 x 3 = 21\n",
      "7 x 4 = 28\n",
      "7 x 5 = 35\n",
      "7 x 6 = 42\n",
      "7 x 7 = 49\n",
      "7 x 8 = 56\n",
      "7 x 9 = 63\n",
      "7 x 10 = 70\n",
      "La tabla de multimplicar del 8 \n",
      "8 x 0 = 0\n",
      "8 x 1 = 8\n",
      "8 x 2 = 16\n",
      "8 x 3 = 24\n",
      "8 x 4 = 32\n",
      "8 x 5 = 40\n",
      "8 x 6 = 48\n",
      "8 x 7 = 56\n",
      "8 x 8 = 64\n",
      "8 x 9 = 72\n",
      "8 x 10 = 80\n",
      "La tabla de multimplicar del 9 \n",
      "9 x 0 = 0\n",
      "9 x 1 = 9\n",
      "9 x 2 = 18\n",
      "9 x 3 = 27\n",
      "9 x 4 = 36\n",
      "9 x 5 = 45\n",
      "9 x 6 = 54\n",
      "9 x 7 = 63\n",
      "9 x 8 = 72\n",
      "9 x 9 = 81\n",
      "9 x 10 = 90\n",
      "La tabla de multimplicar del 10 \n",
      "10 x 0 = 0\n",
      "10 x 1 = 10\n",
      "10 x 2 = 20\n",
      "10 x 3 = 30\n",
      "10 x 4 = 40\n",
      "10 x 5 = 50\n",
      "10 x 6 = 60\n",
      "10 x 7 = 70\n",
      "10 x 8 = 80\n",
      "10 x 9 = 90\n",
      "10 x 10 = 100\n"
     ]
    }
   ],
   "source": [
    "# 4 - Escribir un programa que muestre por pantalla la tabla de multiplicar del 1 al 10.\n",
    "t = 1\n",
    "n = 1\n",
    "resultado = 0\n",
    "while t <= 10:\n",
    "    print(f\"La tabla de multimplicar del {t} \")\n",
    "    for n in range(11): # le puse 11 por que con 10 el rango va hasta el 9 y no toma\n",
    "        resultado = t * n\n",
    "        print(f\"{t} x {n} = {resultado}\")\n",
    "    t += 1"
   ]
  },
  {
   "cell_type": "code",
   "execution_count": 10,
   "metadata": {},
   "outputs": [
    {
     "name": "stdout",
     "output_type": "stream",
     "text": [
      "Tabla de multiplicar del 1:\n",
      "1 x 1 = 1\n",
      "1 x 2 = 2\n",
      "1 x 3 = 3\n",
      "1 x 4 = 4\n",
      "1 x 5 = 5\n",
      "1 x 6 = 6\n",
      "1 x 7 = 7\n",
      "1 x 8 = 8\n",
      "1 x 9 = 9\n",
      "1 x 10 = 10\n",
      "\n",
      "Tabla de multiplicar del 2:\n",
      "2 x 1 = 2\n",
      "2 x 2 = 4\n",
      "2 x 3 = 6\n",
      "2 x 4 = 8\n",
      "2 x 5 = 10\n",
      "2 x 6 = 12\n",
      "2 x 7 = 14\n",
      "2 x 8 = 16\n",
      "2 x 9 = 18\n",
      "2 x 10 = 20\n",
      "\n"
     ]
    }
   ],
   "source": [
    "# 4 (B) - Escribir un programa que muestre por pantalla la tabla de multiplicar del 1 al 10.\n",
    "# Prueba Avanzada\n",
    "\n",
    "for i in range(1, 3):\n",
    "    print(f\"Tabla de multiplicar del {i}:\")\n",
    "    for j in range(1, 11):\n",
    "        resultado = i * j\n",
    "        print(f\"{i} x {j} = {resultado}\")\n",
    "    print()\n"
   ]
  },
  {
   "cell_type": "code",
   "execution_count": 11,
   "metadata": {},
   "outputs": [
    {
     "name": "stdout",
     "output_type": "stream",
     "text": [
      "La vocal \"a\" aparece 0 veces\n",
      "La vocal \"e\" aparece 2 veces\n",
      "La vocal \"i\" aparece 0 veces\n",
      "La vocal \"o\" aparece 0 veces\n",
      "La vocal \"u\" aparece 0 veces\n"
     ]
    }
   ],
   "source": [
    "# 5 - Escribir un programa que pida al usuario una palabra y muestre por pantalla \n",
    "# el número de veces que contiene cada vocal.\n",
    "palabra = 0\n",
    "contador = 0\n",
    "caracter = 0\n",
    "vocal = 0\n",
    "palabra_usuario = input('Ingresa una palabra: ')\n",
    "\n",
    "# Hago una Funcion para la palabra ingresada\n",
    "def contar_vocales(palabra): \n",
    "    contador = {'a': 0, 'e': 0, 'i': 0, 'o': 0, 'u': 0} # armo un diccionario para contar las vocales\n",
    "    palabra = palabra.lower() # Convertimos la palabra\n",
    "\n",
    "    for caracter in palabra: # Recorre cada letra de la palabra \n",
    "        if caracter in contador:\n",
    "            contador[caracter] += 1\n",
    "    \n",
    "    for vocal, cantidad in contador.items(): #para poder imprimir las vocales\n",
    "        print(f'La vocal \"{vocal}\" aparece {cantidad} veces')\n",
    "\n",
    "contar_vocales(palabra_usuario) # Llamamos a la función\n",
    "\n"
   ]
  },
  {
   "cell_type": "code",
   "execution_count": 12,
   "metadata": {},
   "outputs": [
    {
     "ename": "TypeError",
     "evalue": "can't multiply sequence by non-int of type 'str'",
     "output_type": "error",
     "traceback": [
      "\u001b[1;31m---------------------------------------------------------------------------\u001b[0m",
      "\u001b[1;31mTypeError\u001b[0m                                 Traceback (most recent call last)",
      "Cell \u001b[1;32mIn[12], line 20\u001b[0m\n\u001b[0;32m     17\u001b[0m     \u001b[39mreturn\u001b[39;00m total\n\u001b[0;32m     19\u001b[0m \u001b[39m# llamo a la Funcion\u001b[39;00m\n\u001b[1;32m---> 20\u001b[0m total_factura \u001b[39m=\u001b[39m calcular_total_factura(monto,iva)\n\u001b[0;32m     21\u001b[0m \u001b[39mprint\u001b[39m(\u001b[39m\"\u001b[39m\u001b[39mEl total de la factura es:\u001b[39m\u001b[39m\"\u001b[39m, total_factura)\n",
      "Cell \u001b[1;32mIn[12], line 15\u001b[0m, in \u001b[0;36mcalcular_total_factura\u001b[1;34m(monto, iva)\u001b[0m\n\u001b[0;32m     14\u001b[0m \u001b[39mdef\u001b[39;00m \u001b[39mcalcular_total_factura\u001b[39m(monto,iva):\n\u001b[1;32m---> 15\u001b[0m     porcentaje_iva \u001b[39m=\u001b[39m (monto \u001b[39m*\u001b[39;49m iva) \u001b[39m/\u001b[39m \u001b[39m100\u001b[39m\n\u001b[0;32m     16\u001b[0m     total \u001b[39m=\u001b[39m monto \u001b[39m+\u001b[39m porcentaje_iva\n\u001b[0;32m     17\u001b[0m     \u001b[39mreturn\u001b[39;00m total\n",
      "\u001b[1;31mTypeError\u001b[0m: can't multiply sequence by non-int of type 'str'"
     ]
    }
   ],
   "source": [
    "# 6 - Escribir una función que calcule el total de una factura tras aplicarle el IVA. \n",
    "# La función debe recibir la cantidad sin IVA y el porcentaje de IVA a aplicar, \n",
    "# y devolver el total de la factura. Si se invoca la función sin pasarle el porcentaje de IVA, \n",
    "# deberá aplicar un 21%.\n",
    "\n",
    "# VER\n",
    "\n",
    "total_factura = 0\n",
    "porcentaje_iva = 0\n",
    "\n",
    "# Ingreso Datos\n",
    "monto = input(\"Ingrese la Cantidad de la Factura\")\n",
    "iva = input (\"ingrese porcentaje de Iva\")\n",
    "\n",
    "# funcion para calcular \n",
    "def calcular_total_factura(monto,iva):\n",
    "    porcentaje_iva = (monto * iva) / 100\n",
    "    total = monto + porcentaje_iva\n",
    "    return total\n",
    "\n",
    "# llamo a la Funcion\n",
    "total_factura = calcular_total_factura(monto,iva)\n",
    "print(\"El total de la factura es:\", total_factura)\n"
   ]
  },
  {
   "cell_type": "code",
   "execution_count": 22,
   "metadata": {},
   "outputs": [],
   "source": [
    "# 7 - Definir una clase base llamada CuentaBancaria con los siguientes atributos:\n",
    "#   a. numero_cuenta: una variable que almacene el número de la cuenta bancaria.\n",
    "#   b. saldo: una variable que almacene el saldo actual de la cuenta bancaria.\n",
    "\n",
    "# clase Cuenta Bancaria\n",
    "class cuentaBancaria():\n",
    "    pass\n",
    "\n",
    "# le doy los Atributos a las Clase \n",
    "numero_cuenta = cuentaBancaria()\n",
    "saldo_cuenta = cuentaBancaria()"
   ]
  },
  {
   "cell_type": "code",
   "execution_count": 23,
   "metadata": {},
   "outputs": [],
   "source": [
    "# 8 - Implementar el método __init__() en la clase CuentaBancaria para inicializar los atributos \n",
    "# numero_cuenta y saldo.\n",
    "\n",
    "# Inicializo Atributos\n",
    "\n",
    "def __init__(self,numero_cuenta,saldo_cuenta):\n",
    "        self.numero_cuenta = numero_cuenta\n",
    "        self.saldo_cuenta = saldo_cuenta"
   ]
  },
  {
   "cell_type": "code",
   "execution_count": 29,
   "metadata": {},
   "outputs": [],
   "source": [
    "# 9 - Definir los siguientes métodos en la clase CuentaBancaria: \n",
    "#   a. Depositar(cantidad): aumenta el saldo de la cuenta en la cantidad especificada.\n",
    "#   b. Retirar(cantidad): disminuye el saldo de la cuenta en la cantidad especificada. \n",
    "#       Verifica si hay suficiente saldo antes de realizar el retiro.\n",
    "#   c. Consultar_saldo(): muestra el saldo actual de la cuenta.\n",
    "\n",
    "# VER\n",
    "\n",
    "def cuentaBancaria_depositar(self):\n",
    "        \n",
    "def cuentaBancaria_retirar(self):\n",
    "        \n",
    "        "
   ]
  },
  {
   "cell_type": "code",
   "execution_count": 24,
   "metadata": {},
   "outputs": [],
   "source": [
    "# 10 - Crea una clase llamada CuentaAhorro que herede de CuentaBancaria. \n",
    "#   Esta clase debe tener un atributo adicional:\n",
    "#       a Tasa_interes: una variable que almacene la tasa de interés aplicable a la cuenta de ahorro.\n",
    "\n",
    "class CuentaAhorro(cuentaBancaria):\n",
    "   def __init__(self,numero_cuenta,saldo_cuenta,tasa_interes):\n",
    "      super.__init__(numero_cuenta,saldo_cuenta)\n",
    "      self.tasa_interes = tasa_interes"
   ]
  },
  {
   "cell_type": "code",
   "execution_count": null,
   "metadata": {},
   "outputs": [],
   "source": [
    "# 11 - Instanciar al menos dos objetos: uno de la clase CuentaCorriente y otro de la clase CuentaAhorro. \n",
    "# Definir el número de cuenta, el saldo inicial, y la tasa de interés que se desee para cada cuenta."
   ]
  }
 ],
 "metadata": {
  "kernelspec": {
   "display_name": "Python 3",
   "language": "python",
   "name": "python3"
  },
  "language_info": {
   "codemirror_mode": {
    "name": "ipython",
    "version": 3
   },
   "file_extension": ".py",
   "mimetype": "text/x-python",
   "name": "python",
   "nbconvert_exporter": "python",
   "pygments_lexer": "ipython3",
   "version": "3.11.4"
  },
  "orig_nbformat": 4
 },
 "nbformat": 4,
 "nbformat_minor": 2
}

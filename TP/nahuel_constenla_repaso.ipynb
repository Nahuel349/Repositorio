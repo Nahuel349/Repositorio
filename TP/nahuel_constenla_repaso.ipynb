{
 "cells": [
  {
   "cell_type": "code",
   "execution_count": 1,
   "metadata": {},
   "outputs": [
    {
     "name": "stdout",
     "output_type": "stream",
     "text": [
      "['montevideo', 'florianopolis', 'bogota', 'caracas', 'miami', 'madrid', 'paris', 'roma']\n"
     ]
    }
   ],
   "source": [
    "# 1\n",
    "ciudades = [\"montevideo\",\"florianopolis\",\"bogota\",\"caracas\",\"miami\",\"madrid\",\"paris\",\"roma\"]\n",
    "print (ciudades)"
   ]
  },
  {
   "cell_type": "code",
   "execution_count": 2,
   "metadata": {},
   "outputs": [
    {
     "data": {
      "text/plain": [
       "'florianopolis'"
      ]
     },
     "execution_count": 2,
     "metadata": {},
     "output_type": "execute_result"
    }
   ],
   "source": [
    "#2\n",
    "ciudades[1]"
   ]
  },
  {
   "cell_type": "code",
   "execution_count": 3,
   "metadata": {},
   "outputs": [
    {
     "data": {
      "text/plain": [
       "['florianopolis', 'bogota', 'caracas']"
      ]
     },
     "execution_count": 3,
     "metadata": {},
     "output_type": "execute_result"
    }
   ],
   "source": [
    "#3\n",
    "ciudades[1:4]"
   ]
  },
  {
   "cell_type": "code",
   "execution_count": 4,
   "metadata": {},
   "outputs": [
    {
     "name": "stdout",
     "output_type": "stream",
     "text": [
      "['montevideo', 'florianopolis', 'bogota', 'caracas', 'miami', 'madrid', 'paris', 'roma', 'miami', 'berlin']\n"
     ]
    }
   ],
   "source": [
    "#4\n",
    "ciudades.append(\"miami\")\n",
    "ciudades.append(\"berlin\")\n",
    "print(ciudades)"
   ]
  },
  {
   "cell_type": "code",
   "execution_count": 5,
   "metadata": {},
   "outputs": [
    {
     "name": "stdout",
     "output_type": "stream",
     "text": [
      "['montevideo', 'florianopolis', 'bogota', 'barcelona', 'caracas', 'miami', 'madrid', 'paris', 'roma', 'miami', 'berlin']\n"
     ]
    }
   ],
   "source": [
    "#5\n",
    "ciudades.insert(3,\"barcelona\")\n",
    "print(ciudades)"
   ]
  },
  {
   "cell_type": "code",
   "execution_count": 6,
   "metadata": {},
   "outputs": [
    {
     "name": "stdout",
     "output_type": "stream",
     "text": [
      "['montevideo', 'florianopolis', 'bogota', 'barcelona', 'caracas', 'miami', 'madrid', 'paris', 'roma', 'miami', 'berlin', 'uruguay', 'brasil', 'venezuela', 'EEUU', 'colombia', 'españa', 'francia', 'alemania']\n"
     ]
    }
   ],
   "source": [
    "#6\n",
    "paises = [\"uruguay\",\"brasil\",\"venezuela\",\"EEUU\",\"colombia\",\"españa\",\"francia\",\"alemania\"]\n",
    "ciudades.extend(paises)\n",
    "print(ciudades)"
   ]
  },
  {
   "cell_type": "code",
   "execution_count": 7,
   "metadata": {},
   "outputs": [
    {
     "name": "stdout",
     "output_type": "stream",
     "text": [
      "<class 'tuple'>\n",
      "(1, 2, 3, 4, 5, 6, 7, 8, 9, 10, 11, 12, 13, 14, 15, 16, 17, 18, 19, 20)\n"
     ]
    }
   ],
   "source": [
    "#7\n",
    "numeros = (1,2,3,4,5,6,7,8,9,10,11,12,13,14,15,16,17,18,19,20)\n",
    "print(type(numeros))\n",
    "print(numeros)"
   ]
  },
  {
   "cell_type": "code",
   "execution_count": 8,
   "metadata": {},
   "outputs": [
    {
     "name": "stdout",
     "output_type": "stream",
     "text": [
      "(10, 11, 12, 13, 14, 15)\n"
     ]
    }
   ],
   "source": [
    "#8\n",
    "print(numeros[9:15])"
   ]
  },
  {
   "cell_type": "code",
   "execution_count": 9,
   "metadata": {},
   "outputs": [
    {
     "name": "stdout",
     "output_type": "stream",
     "text": [
      "1\n",
      "2\n",
      "3\n"
     ]
    }
   ],
   "source": [
    "#9 VER\n",
    "primero, segundo, tercero,*cuarto = numeros\n",
    "print(primero)\n",
    "print(segundo)\n",
    "print(tercero)"
   ]
  },
  {
   "cell_type": "code",
   "execution_count": 10,
   "metadata": {},
   "outputs": [],
   "source": [
    "#10\n",
    "dicionario_ciudad = {\"ciudad\":ciudades,\"pais\":\"\",\"continente\":\"\"}"
   ]
  },
  {
   "cell_type": "code",
   "execution_count": 17,
   "metadata": {},
   "outputs": [
    {
     "data": {
      "text/plain": [
       "dict_keys(['ciudad', 'pais', 'continente'])"
      ]
     },
     "execution_count": 17,
     "metadata": {},
     "output_type": "execute_result"
    }
   ],
   "source": [
    "#11\n",
    "dicionario_ciudad.keys()"
   ]
  },
  {
   "cell_type": "code",
   "execution_count": 27,
   "metadata": {},
   "outputs": [
    {
     "data": {
      "text/plain": [
       "dict_values([['montevideo', 'florianopolis', 'bogota', 'barcelona', 'caracas', 'miami', 'madrid', 'paris', 'roma', 'miami', 'berlin', 'uruguay', 'brasil', 'venezuela', 'EEUU', 'colombia', 'españa', 'francia', 'alemania'], '', ''])"
      ]
     },
     "execution_count": 27,
     "metadata": {},
     "output_type": "execute_result"
    }
   ],
   "source": [
    "#12\n",
    "dicionario_ciudad.values()"
   ]
  },
  {
   "cell_type": "code",
   "execution_count": 30,
   "metadata": {},
   "outputs": [
    {
     "name": "stdout",
     "output_type": "stream",
     "text": [
      "el Numero Ingresado es Menor\n"
     ]
    }
   ],
   "source": [
    "#13\n",
    "numero = int(input(\"ingrese un Numero\"))\n",
    "if numero > 0:\n",
    "    print(\"el Numero Ingresado es Mayor\")\n",
    "else: \n",
    "    print (\"el Numero Ingresado es Menor\")\n"
   ]
  },
  {
   "cell_type": "code",
   "execution_count": 32,
   "metadata": {},
   "outputs": [
    {
     "data": {
      "text/plain": [
       "(int, str)"
      ]
     },
     "execution_count": 32,
     "metadata": {},
     "output_type": "execute_result"
    }
   ],
   "source": [
    "#14 \n",
    "numero = int(input(\"Ingrese un Numero\"))\n",
    "dato = str(input(\"Ingrese una palabra\"))\n",
    "type(numero), type(dato)"
   ]
  },
  {
   "cell_type": "code",
   "execution_count": 13,
   "metadata": {},
   "outputs": [
    {
     "name": "stdout",
     "output_type": "stream",
     "text": [
      "1 es impar.\n",
      "2 es par.\n",
      "3 es impar.\n",
      "4 es par.\n",
      "5 es impar.\n",
      "6 es par.\n",
      "7 es impar.\n",
      "8 es par.\n",
      "9 es impar.\n",
      "10 es par.\n",
      "11 es impar.\n",
      "12 es par.\n",
      "13 es impar.\n",
      "14 es par.\n",
      "15 es impar.\n",
      "16 es par.\n",
      "17 es impar.\n",
      "18 es par.\n",
      "19 es impar.\n",
      "20 es par.\n"
     ]
    }
   ],
   "source": [
    "#15\n",
    "i = 0\n",
    "while i < 20:\n",
    "    i+=1\n",
    "    if i % 2 == 0:\n",
    "        print(i, \"es par.\")\n",
    "    else:\n",
    "        print(i, \"es impar.\")\n",
    " "
   ]
  },
  {
   "cell_type": "code",
   "execution_count": 19,
   "metadata": {},
   "outputs": [
    {
     "name": "stdout",
     "output_type": "stream",
     "text": [
      "0\n",
      "1\n",
      "8\n",
      "27\n",
      "64\n",
      "125\n"
     ]
    }
   ],
   "source": [
    "#16\n",
    "for numero in range(0,6):\n",
    "    numero = numero **3\n",
    "    print (numero)   "
   ]
  },
  {
   "cell_type": "code",
   "execution_count": 35,
   "metadata": {},
   "outputs": [
    {
     "name": "stdout",
     "output_type": "stream",
     "text": [
      "0\n",
      "1\n"
     ]
    }
   ],
   "source": [
    "#17\n",
    "numero = int(input(\"Ingrese un Numero\"))\n",
    "for numero in range(numero):\n",
    "    print(numero)"
   ]
  },
  {
   "cell_type": "code",
   "execution_count": 49,
   "metadata": {},
   "outputs": [
    {
     "name": "stdout",
     "output_type": "stream",
     "text": [
      "ingrese un numero mayor a 0\n"
     ]
    }
   ],
   "source": [
    "#18\n",
    "numero = int(input(\"Ingrese un Numero\"))\n",
    "if numero > 0:\n",
    "    factorial = 1\n",
    "    i = 1 \n",
    "    while (i<=numero):\n",
    "        factorial = factorial * numero\n",
    "        i = i + 1\n",
    "        print (factorial)\n",
    "else:\n",
    "    print(\"ingrese un numero mayor a 0\")"
   ]
  }
 ],
 "metadata": {
  "kernelspec": {
   "display_name": "Python 3",
   "language": "python",
   "name": "python3"
  },
  "language_info": {
   "codemirror_mode": {
    "name": "ipython",
    "version": 3
   },
   "file_extension": ".py",
   "mimetype": "text/x-python",
   "name": "python",
   "nbconvert_exporter": "python",
   "pygments_lexer": "ipython3",
   "version": "3.9.13"
  },
  "orig_nbformat": 4
 },
 "nbformat": 4,
 "nbformat_minor": 2
}
